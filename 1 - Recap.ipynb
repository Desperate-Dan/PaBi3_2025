{
 "cells": [
  {
   "cell_type": "markdown",
   "id": "0b61d756-e9f9-4f7d-8f58-c4c7df147515",
   "metadata": {},
   "source": [
    "# Welcome\n",
    "In this notebook, you will practice some of the python programming you have learnt over the last 2 years. We will also introduce a couple of new commands that will be useful during our analysis. \n",
    "\n",
    "Work on it in pairs, with one person typing (driver) and the other person asking questions or making suggestions (navigator) until you get to the answer provided. Switch roles each exercise. \n",
    "\n",
    "You are not expected to remember it all immediately - use the cheat sheets, ELM, google to remind yourselves. Lecturers and demonstratrs are here to help you, so please ask as many questions as you need. "
   ]
  },
  {
   "cell_type": "markdown",
   "id": "53bf8ec1-c873-4d78-8b08-63d6994481c6",
   "metadata": {},
   "source": [
    "# Exercise 1:\n",
    "When we run an experiment, we give each sample a unique identifier. When these results are stored in a public database, this unique identifier is called an <i>accession</i>. \n",
    "\n",
    "In our example, the accessions are stored in the file `data/Schistosoma_mansoni/list_ids.txt`. This file contains a single word on each line, representing a sample accession. We want to use python to read the file and make a list of accessions.\n",
    "\n",
    "This is a repetitive process: for each line in the file, we want python to (i) read the line, (ii) remove whitespace/newline characters and (iii) add the accession number to a list. We use `for` loops to perform this kind of repetitive action. You learned about `for` loops in <i>Variation</i>.\n",
    "\n"
   ]
  },
  {
   "cell_type": "markdown",
   "id": "d6b58ed6-1025-4e69-ae74-461b65cd051b",
   "metadata": {},
   "source": [
    "<div class=\"alert alert-block alert-warning\">\n",
    "    \n",
    "Complete the `...` in the code below to make the list of accessions and print how many accessions there are in the file. \n",
    "\n",
    "We have provided `.append` to add the accession number to the list, and `.strip()` to remove whitespace/newline characters. "
   ]
  },
  {
   "cell_type": "code",
   "execution_count": null,
   "id": "597d7660-2ad7-493f-8055-94e1cce43ba4",
   "metadata": {},
   "outputs": [],
   "source": [
    "# (1) Create a new list called accessions. The list will be empty for now.\n",
    "accessions = []\n",
    "\n",
    "# (2) open the file in read mode\n",
    "with ...(f\"...\", \"r\") as f:\n",
    "    # (3) use a for loop over the lines in the file \n",
    "    for ... :\n",
    "        # (4) remove any whitespace/newline characters from the line\n",
    "        # (5) add the new accession to the list\n",
    "        accessions.append(line.strip())\n",
    "# (6) Print how many accessions there are in te file\n",
    "...(f\"There are {...} accessions in the file\")"
   ]
  },
  {
   "cell_type": "code",
   "execution_count": 1,
   "id": "6a0c7d8b-5286-4433-a968-afe94e745d31",
   "metadata": {},
   "outputs": [
    {
     "name": "stdout",
     "output_type": "stream",
     "text": [
      "There are 12 accessions in the file\n"
     ]
    }
   ],
   "source": [
    "# (1) Create a new list called accessions. The list will be empty for now.\n",
    "accessions = []\n",
    "\n",
    "# (1) open the file in read mode\n",
    "with open(f\"data/Schistosoma_mansoni/list_ids.txt\",\"r\") as f:\n",
    "    # (2) use a for loop over the lines in the file \n",
    "    for line in f:\n",
    "        # (3) remove any whitespace/newline characters from the line\n",
    "        # (4) add the new accession to the list\n",
    "        accessions.append(line.strip())\n",
    "\n",
    "print(f\"There are {len(accessions)} accessions in the file\")"
   ]
  },
  {
   "cell_type": "markdown",
   "id": "c358ddc9-efc8-4e67-86db-a6fcd233de99",
   "metadata": {},
   "source": [
    "<details>\n",
    "<summary><i>Hints and tips</i></summary>\n",
    "\n",
    "    \n",
    "    Note that there is more than one way to obtain the solution. \n",
    "\n",
    "    For example, you can open the file directly in step (1), and then you need to close the file again after the end of the loop, or you can use a `with open...` statement, in which case you need to indent the code you want to run while the file is open.\n",
    "\n",
    "    You can combine steps (3) and (4) into a single line.\n",
    "\n",
    "</details>"
   ]
  },
  {
   "cell_type": "raw",
   "id": "1e717662-e110-4edf-90df-fdd9d24fb26f",
   "metadata": {},
   "source": [
    "Answer:\n",
    "There are 12 accessions in the file"
   ]
  },
  {
   "cell_type": "markdown",
   "id": "90c619c6-5266-4b65-9dc1-800f8774cb95",
   "metadata": {},
   "source": [
    "# Exercise 2:\n",
    "\n",
    "Tables of data are often stored in a CSV file. We can use `pandas` to read these files as 'dataframes' and work with them. You worked with pandas dataframes in <i>Data Exploration in Biology 2</i> (DExB2) and <i>Variation</i>. If you need a refresher on pandas, you can have a look [here](https://pandas.pydata.org/docs/user_guide/index.html)."
   ]
  },
  {
   "cell_type": "markdown",
   "id": "97926053-3103-4be0-8548-51167a713375",
   "metadata": {},
   "source": [
    "<div class=\"alert alert-block alert-warning\">\n",
    "Use pandas to read the CSV 'metadata' into a dataframe called 'metadata'"
   ]
  },
  {
   "cell_type": "code",
   "execution_count": null,
   "id": "b66b449a-6f6a-4401-9be4-07157eb096fd",
   "metadata": {},
   "outputs": [],
   "source": [
    "import pandas as pd\n",
    "\n",
    "# (1) create a dataframe called metadata from the file\n",
    "metadata = ...\n",
    "\n",
    "# (2) have a look at the dataframe\n"
   ]
  },
  {
   "cell_type": "code",
   "execution_count": 2,
   "id": "182e5dde-67ae-45fe-93b8-604e29e8412a",
   "metadata": {},
   "outputs": [
    {
     "data": {
      "text/html": [
       "<div>\n",
       "<style scoped>\n",
       "    .dataframe tbody tr th:only-of-type {\n",
       "        vertical-align: middle;\n",
       "    }\n",
       "\n",
       "    .dataframe tbody tr th {\n",
       "        vertical-align: top;\n",
       "    }\n",
       "\n",
       "    .dataframe thead th {\n",
       "        text-align: right;\n",
       "    }\n",
       "</style>\n",
       "<table border=\"1\" class=\"dataframe\">\n",
       "  <thead>\n",
       "    <tr style=\"text-align: right;\">\n",
       "      <th></th>\n",
       "      <th>accession</th>\n",
       "      <th>stage</th>\n",
       "    </tr>\n",
       "  </thead>\n",
       "  <tbody>\n",
       "    <tr>\n",
       "      <th>0</th>\n",
       "      <td>ERR022872</td>\n",
       "      <td>cercarium</td>\n",
       "    </tr>\n",
       "    <tr>\n",
       "      <th>1</th>\n",
       "      <td>ERR022873</td>\n",
       "      <td>platyhelminth adult</td>\n",
       "    </tr>\n",
       "    <tr>\n",
       "      <th>2</th>\n",
       "      <td>ERR022874</td>\n",
       "      <td>3 hr schistosomulum</td>\n",
       "    </tr>\n",
       "    <tr>\n",
       "      <th>3</th>\n",
       "      <td>ERR022875</td>\n",
       "      <td>cercarium</td>\n",
       "    </tr>\n",
       "    <tr>\n",
       "      <th>4</th>\n",
       "      <td>ERR022876</td>\n",
       "      <td>3 hr schistosomulum</td>\n",
       "    </tr>\n",
       "    <tr>\n",
       "      <th>5</th>\n",
       "      <td>ERR022877</td>\n",
       "      <td>cercarium</td>\n",
       "    </tr>\n",
       "    <tr>\n",
       "      <th>6</th>\n",
       "      <td>ERR022878</td>\n",
       "      <td>cercarium</td>\n",
       "    </tr>\n",
       "    <tr>\n",
       "      <th>7</th>\n",
       "      <td>ERR022879</td>\n",
       "      <td>3 hr schistosomulum</td>\n",
       "    </tr>\n",
       "    <tr>\n",
       "      <th>8</th>\n",
       "      <td>ERR022880</td>\n",
       "      <td>24 hr schistosomulum</td>\n",
       "    </tr>\n",
       "    <tr>\n",
       "      <th>9</th>\n",
       "      <td>ERR022881</td>\n",
       "      <td>24 hr schistosomulum</td>\n",
       "    </tr>\n",
       "    <tr>\n",
       "      <th>10</th>\n",
       "      <td>ERR022882</td>\n",
       "      <td>24 hr schistosomulum</td>\n",
       "    </tr>\n",
       "    <tr>\n",
       "      <th>11</th>\n",
       "      <td>ERR022883</td>\n",
       "      <td>24 hr schistosomulum</td>\n",
       "    </tr>\n",
       "  </tbody>\n",
       "</table>\n",
       "</div>"
      ],
      "text/plain": [
       "    accession                 stage\n",
       "0   ERR022872             cercarium\n",
       "1   ERR022873   platyhelminth adult\n",
       "2   ERR022874   3 hr schistosomulum\n",
       "3   ERR022875             cercarium\n",
       "4   ERR022876   3 hr schistosomulum\n",
       "5   ERR022877             cercarium\n",
       "6   ERR022878             cercarium\n",
       "7   ERR022879   3 hr schistosomulum\n",
       "8   ERR022880  24 hr schistosomulum\n",
       "9   ERR022881  24 hr schistosomulum\n",
       "10  ERR022882  24 hr schistosomulum\n",
       "11  ERR022883  24 hr schistosomulum"
      ]
     },
     "execution_count": 2,
     "metadata": {},
     "output_type": "execute_result"
    }
   ],
   "source": [
    "import pandas as pd\n",
    "\n",
    "# (1) create a dataframe called metadata from the file\n",
    "metadata = pd.read_csv(\"data/Schistosoma_mansoni/metadata.csv\")\n",
    "\n",
    "# (2) have a look at the dataframe\n",
    "metadata"
   ]
  },
  {
   "cell_type": "markdown",
   "id": "eb499ca3-9113-4a7a-8c60-6cdba01a32bc",
   "metadata": {},
   "source": [
    "Pandas has given each row a numeric id. However, we would like to use the accession number as the row identifier. In other words, we would like to use the column accession as the [index](https://pandas.pydata.org/docs/reference/api/pandas.DataFrame.index.html)"
   ]
  },
  {
   "cell_type": "markdown",
   "id": "6392105b-6317-4cd6-99c0-10cac8be0a59",
   "metadata": {},
   "source": [
    "<div class=\"alert alert-block alert-warning\">\n",
    "Read in the pandas dataframe again, this time using the first column as the index. Print out the index. "
   ]
  },
  {
   "cell_type": "code",
   "execution_count": null,
   "id": "cbef7fbb-0b60-4d8d-b88d-802a170a6a70",
   "metadata": {},
   "outputs": [],
   "source": [
    "# (1) create a dataframe called metadata from the file, using the first column as index\n",
    "\n",
    "\n",
    "# (2) print the index\n"
   ]
  },
  {
   "cell_type": "code",
   "execution_count": 3,
   "id": "bb74fae9-4574-4c55-8e33-6b4448e34372",
   "metadata": {},
   "outputs": [
    {
     "name": "stdout",
     "output_type": "stream",
     "text": [
      "Index(['ERR022872', 'ERR022873', 'ERR022874', 'ERR022875', 'ERR022876',\n",
      "       'ERR022877', 'ERR022878', 'ERR022879', 'ERR022880', 'ERR022881',\n",
      "       'ERR022882', 'ERR022883'],\n",
      "      dtype='object', name='accession')\n"
     ]
    }
   ],
   "source": [
    "# (1) create a dataframe called metadata from the file, using the first column as index\n",
    "metadata = pd.read_csv(\"data/Schistosoma_mansoni/metadata.csv\", index_col=0)\n",
    "\n",
    "# (2) print the index\n",
    "print(metadata.index)"
   ]
  },
  {
   "cell_type": "raw",
   "id": "2ef724bc-349d-46ae-8833-4a9426743702",
   "metadata": {},
   "source": [
    "Answer:\n",
    "\n",
    "Index(['ERR022872', 'ERR022873', 'ERR022874', 'ERR022875', 'ERR022876',\n",
    "       'ERR022877', 'ERR022878', 'ERR022879', 'ERR022880', 'ERR022881',\n",
    "       'ERR022882', 'ERR022883'],\n",
    "      dtype='object', name='accession')"
   ]
  },
  {
   "cell_type": "markdown",
   "id": "c19d76f2-1a62-4ccf-b189-4688e0d908b0",
   "metadata": {},
   "source": [
    "# Exercise 3:\n",
    "\n",
    "We often want to focus our analysis on part of a dataframe. You learned how to subset a dataframe in DExB2, week 4, class 8. "
   ]
  },
  {
   "cell_type": "markdown",
   "id": "e683e1e8-81da-456f-955c-e699208d98b6",
   "metadata": {},
   "source": [
    "<div class=\"alert alert-block alert-warning\">\n",
    "Subset the dataframe from Exercise 2 to include only rows where the \"stage\" column is `cercarium`  or `24 hr schistosomulum`. How many rows are there now?"
   ]
  },
  {
   "cell_type": "markdown",
   "id": "c05a1599-0fd2-429e-8bf5-42dc4162c400",
   "metadata": {},
   "source": [
    "<details>\n",
    "<summary><i>Hints and tips</i></summary>\n",
    "\n",
    "You can use `isin` to subset the dataframe.\n",
    "\n",
    "</details>"
   ]
  },
  {
   "cell_type": "code",
   "execution_count": null,
   "id": "880d123d-1e64-4e4f-8e5b-296c2f399a77",
   "metadata": {},
   "outputs": [],
   "source": [
    "# (1) create a dataframe called metadata_s with only the subset of rows\n",
    "\n",
    "# (2) how many rows are there now?"
   ]
  },
  {
   "cell_type": "code",
   "execution_count": 4,
   "id": "11354edc-c6cf-4359-b209-b19f3b8d4211",
   "metadata": {},
   "outputs": [
    {
     "name": "stdout",
     "output_type": "stream",
     "text": [
      "The new dataframe has 8 rows\n"
     ]
    }
   ],
   "source": [
    "# (1) create a dataframe called metadata_s with only the subset of rows\n",
    "metadata_s = metadata[metadata[\"stage\"].isin([\"cercarium\",\"24 hr schistosomulum\"])]\n",
    "\n",
    "# (2) how many rows are there now?\n",
    "print(f\"The new dataframe has {len(metadata_s)} rows\")"
   ]
  },
  {
   "cell_type": "raw",
   "id": "e1b4ceee-d290-4142-8acc-8590394702c3",
   "metadata": {},
   "source": [
    "Answer:\n",
    "The new dataframe has 8 rows"
   ]
  },
  {
   "cell_type": "markdown",
   "id": "d41f913b-cf4a-4b63-9230-3d5e3532c32d",
   "metadata": {},
   "source": [
    "# Exercise 4:\n",
    "\n",
    "We often want to combine information from more than one file. You learned how to combine datasets in DExB2, class 7."
   ]
  },
  {
   "cell_type": "markdown",
   "id": "09815ec1-f0f0-4d5d-90bc-4b5c50682827",
   "metadata": {},
   "source": [
    "We have a second metadata table data/Schistosoma_mansoni/metadata2.tsv. This table has an accession column, a column with the date of collection, a column with the ug of RNA obtained, and a column with the purity fo the RNA obtained. We want to combine this with the metadata table from exercise 2."
   ]
  },
  {
   "cell_type": "markdown",
   "id": "b068d33c-3816-42a8-bdeb-09f170c5c490",
   "metadata": {},
   "source": [
    "<div class=\"alert alert-block alert-warning\">\n",
    "Create a combined dataframe with `accession`, `stage` and `date` columns."
   ]
  },
  {
   "cell_type": "markdown",
   "id": "8ca24e34-c7f9-4c5e-ac57-af879f434e8a",
   "metadata": {},
   "source": [
    "<details>\n",
    "<summary><i>Hints and tips</i></summary>\n",
    "\n",
    "You can use the command `join` to combine both dataframes\n",
    "\n",
    "</details>"
   ]
  },
  {
   "cell_type": "code",
   "execution_count": null,
   "id": "a741c8a5-4d86-4536-9482-eb17c785ca52",
   "metadata": {},
   "outputs": [],
   "source": [
    "# (1) create a dataframe called metadata2 from the new file\n",
    "\n",
    "# (2) combine the dataframes metadata and metadata2\n",
    "\n",
    "# (3) print the combined dataframe\n"
   ]
  },
  {
   "cell_type": "code",
   "execution_count": 12,
   "id": "5afb0c14-7643-49dd-aa7c-a5e53dba07a1",
   "metadata": {},
   "outputs": [
    {
     "name": "stdout",
     "output_type": "stream",
     "text": [
      "                          stage        date  ugRNA  Purity\n",
      "accession                                                 \n",
      "ERR022872             cercarium  2025-08-22    100      80\n",
      "ERR022873   platyhelminth adult         NaN      3      15\n",
      "ERR022874   3 hr schistosomulum  2025-08-22     25      86\n",
      "ERR022875             cercarium  2025-08-21    192      92\n",
      "ERR022876   3 hr schistosomulum  2025-08-23     54      83\n",
      "ERR022877             cercarium  2025-08-22    110      95\n",
      "ERR022878             cercarium         NaN     12      90\n",
      "ERR022879   3 hr schistosomulum  2025-08-20     75      89\n",
      "ERR022880  24 hr schistosomulum         NaN    155      63\n",
      "ERR022881  24 hr schistosomulum         NaN     87      87\n",
      "ERR022882  24 hr schistosomulum         NaN      9      45\n",
      "ERR022883  24 hr schistosomulum  2025-08-20     48      81\n"
     ]
    }
   ],
   "source": [
    "# (1) create a dataframe called metadata2 from the new file\n",
    "metadata2 = pd.read_csv(\"data/Schistosoma_mansoni/metadata2.tsv\", index_col=0, sep=\"\\t\")\n",
    "\n",
    "# (2) combine the dataframes metadata and metadata2\n",
    "combined_metadata = metadata.join(metadata2)\n",
    "\n",
    "# (3) print the combined dataframe\n",
    "print(combined_metadata)"
   ]
  },
  {
   "cell_type": "raw",
   "id": "42e9b397-9760-4feb-93b1-4c05af5742b2",
   "metadata": {},
   "source": [
    "Answer:\n",
    "\n",
    "                          stage        date  ugRNA  Purity\n",
    "accession                                                  \n",
    "ERR022872             cercarium  2025-08-22    100       80\n",
    "ERR022873   platyhelminth adult         NaN      3       15\n",
    "ERR022874   3 hr schistosomulum  2025-08-22     25       86\n",
    "ERR022875             cercarium  2025-08-21    192       92\n",
    "ERR022876   3 hr schistosomulum  2025-08-23     54       83\n",
    "ERR022877             cercarium  2025-08-22    110       95\n",
    "ERR022878             cercarium         NaN     12       90\n",
    "ERR022879   3 hr schistosomulum  2025-08-20     75       89\n",
    "ERR022880  24 hr schistosomulum         NaN    155       63\n",
    "ERR022881  24 hr schistosomulum         NaN     87       87\n",
    "ERR022882  24 hr schistosomulum         NaN      9       45\n",
    "ERR022883  24 hr schistosomulum  2025-08-20     48       81"
   ]
  },
  {
   "cell_type": "markdown",
   "id": "97ce997f-d977-4f7a-97fd-dc7b26832c56",
   "metadata": {},
   "source": [
    "<details>\n",
    "<summary><i>Hints and tips</i></summary>\n",
    "\n",
    "    In this example, both dataframes had the same set of row names in the same order. You may want to remind yourselves how you might join the dataframes if this were not the case.\n",
    "\n",
    "</details>"
   ]
  },
  {
   "cell_type": "markdown",
   "id": "c204376b-daf8-4e21-871a-ca5644c9e2ec",
   "metadata": {},
   "source": [
    "# Exercise 5:\n",
    "\n",
    "Note that several of the dates in the combined dataframe don't exist. We want to set those `NaN` to an actual value. You learned how to do this in DExB2 week 2, class 4. "
   ]
  },
  {
   "cell_type": "markdown",
   "id": "bb87303f-035b-4a44-aa37-78440ec93b48",
   "metadata": {},
   "source": [
    "<div class=\"alert alert-block alert-warning\">\n",
    "    \n",
    "Set the `NaN` values to `2025-08-24`"
   ]
  },
  {
   "cell_type": "markdown",
   "id": "d8ff2228-ba4f-41c8-a12f-ea26f2bd3b64",
   "metadata": {},
   "source": [
    "<details>\n",
    "<summary><i>Hints and tips</i></summary>\n",
    "\n",
    "You can use the command `fillna` \n",
    "</details> "
   ]
  },
  {
   "cell_type": "code",
   "execution_count": null,
   "id": "6816469b-8424-477c-8c88-cfbfb48d27c5",
   "metadata": {},
   "outputs": [],
   "source": [
    "# (1) fill in empty dates\n",
    "\n",
    "# (2) print the result\n",
    "print(combined_metadata)"
   ]
  },
  {
   "cell_type": "code",
   "execution_count": 13,
   "id": "4121e381-5801-4a41-8e67-e0754443c069",
   "metadata": {},
   "outputs": [
    {
     "name": "stdout",
     "output_type": "stream",
     "text": [
      "                          stage        date  ugRNA  Purity\n",
      "accession                                                 \n",
      "ERR022872             cercarium  2025-08-22    100      80\n",
      "ERR022873   platyhelminth adult  2025-08-24      3      15\n",
      "ERR022874   3 hr schistosomulum  2025-08-22     25      86\n",
      "ERR022875             cercarium  2025-08-21    192      92\n",
      "ERR022876   3 hr schistosomulum  2025-08-23     54      83\n",
      "ERR022877             cercarium  2025-08-22    110      95\n",
      "ERR022878             cercarium  2025-08-24     12      90\n",
      "ERR022879   3 hr schistosomulum  2025-08-20     75      89\n",
      "ERR022880  24 hr schistosomulum  2025-08-24    155      63\n",
      "ERR022881  24 hr schistosomulum  2025-08-24     87      87\n",
      "ERR022882  24 hr schistosomulum  2025-08-24      9      45\n",
      "ERR022883  24 hr schistosomulum  2025-08-20     48      81\n"
     ]
    }
   ],
   "source": [
    "# (1) fill in empty dates\n",
    "combined_metadata.fillna(\"2025-08-24\",inplace=True)\n",
    "\n",
    "# (2) print the result\n",
    "print(combined_metadata)"
   ]
  },
  {
   "cell_type": "raw",
   "id": "235e14af-bb24-48f8-8dbb-9fd0f586bcaa",
   "metadata": {},
   "source": [
    "Answer:\n",
    "\n",
    "                          stage        date  ugRNA  Purity\n",
    "accession                                                  \n",
    "ERR022872             cercarium  2025-08-22    100       80\n",
    "ERR022873   platyhelminth adult  2025-08-24      3       15\n",
    "ERR022874   3 hr schistosomulum  2025-08-22     25       86\n",
    "ERR022875             cercarium  2025-08-21    192       92\n",
    "ERR022876   3 hr schistosomulum  2025-08-23     54       83\n",
    "ERR022877             cercarium  2025-08-22    110       95\n",
    "ERR022878             cercarium  2025-08-24     12       90\n",
    "ERR022879   3 hr schistosomulum  2025-08-20     75       89\n",
    "ERR022880  24 hr schistosomulum  2025-08-24    155       63\n",
    "ERR022881  24 hr schistosomulum  2025-08-24     87       87\n",
    "ERR022882  24 hr schistosomulum  2025-08-24      9       45\n",
    "ERR022883  24 hr schistosomulum  2025-08-20     48       81"
   ]
  },
  {
   "cell_type": "markdown",
   "id": "317acde2-f68c-4215-824d-3c03e8752237",
   "metadata": {},
   "source": [
    "# Exercise 6:\n",
    "\n",
    "Sometimes, we need to filter the rows of a dataset based on the values in several columns. You learned how to do that in DExB2 week 4, class 8. "
   ]
  },
  {
   "cell_type": "markdown",
   "id": "8a73b58f-3c3b-47bd-ba87-edf8cb014817",
   "metadata": {},
   "source": [
    "<div class=\"alert alert-block alert-warning\">\n",
    "    \n",
    "Filter the dataframe from the previous exercise (combined_metadata) so that it only contains samples with more than 50 ug of RNA and purity of 80 or more"
   ]
  },
  {
   "cell_type": "markdown",
   "id": "299c0324-c253-427c-afb0-11b1b60c1b5c",
   "metadata": {},
   "source": [
    "<details>\n",
    "<summary><i>Hints and tips</i></summary>\n",
    "\n",
    "Use the syntax `dataframe[(dataframe[column1]condition) & (dataframe[column2]condition)]`\n",
    "</details> "
   ]
  },
  {
   "cell_type": "code",
   "execution_count": null,
   "id": "107c0577-92d8-4e11-a31d-f121b023c657",
   "metadata": {},
   "outputs": [],
   "source": [
    "# (1) create a filtered dataframe\n",
    "\n",
    "\n",
    "# (2) print the result\n",
    "print(filtered_metadata)"
   ]
  },
  {
   "cell_type": "code",
   "execution_count": 14,
   "id": "d25aa1f0-ef8d-4867-9bc2-51ea840155b8",
   "metadata": {},
   "outputs": [
    {
     "name": "stdout",
     "output_type": "stream",
     "text": [
      "                          stage        date  ugRNA  Purity\n",
      "accession                                                 \n",
      "ERR022872             cercarium  2025-08-22    100      80\n",
      "ERR022875             cercarium  2025-08-21    192      92\n",
      "ERR022876   3 hr schistosomulum  2025-08-23     54      83\n",
      "ERR022877             cercarium  2025-08-22    110      95\n",
      "ERR022879   3 hr schistosomulum  2025-08-20     75      89\n",
      "ERR022881  24 hr schistosomulum  2025-08-24     87      87\n"
     ]
    }
   ],
   "source": [
    "# (1) create a filtered dataframe\n",
    "filtered_metadata=combined_metadata[(combined_metadata.ugRNA>50)&(combined_metadata.Purity>=80)]\n",
    "\n",
    "# (2) print the result\n",
    "print(filtered_metadata)"
   ]
  },
  {
   "cell_type": "raw",
   "id": "1a0447f0-738e-41c1-b121-98dcb1ac0d0d",
   "metadata": {},
   "source": [
    "Answer:\n",
    "                          stage        date  ugRNA  Purity\n",
    "accession                                                 \n",
    "ERR022872             cercarium  2025-08-22    100      80\n",
    "ERR022875             cercarium  2025-08-21    192      92\n",
    "ERR022876   3 hr schistosomulum  2025-08-23     54      83\n",
    "ERR022877             cercarium  2025-08-22    110      95\n",
    "ERR022879   3 hr schistosomulum  2025-08-20     75      89\n",
    "ERR022881  24 hr schistosomulum  2025-08-24     87      87\n"
   ]
  },
  {
   "cell_type": "markdown",
   "id": "4bda2f33-9644-4f97-b78d-f4171caa0d38",
   "metadata": {},
   "source": [
    "Sometimes, it is also useful to find out the minimum or maximum value in a column of a dataframe. You revised how to do this in DExB2 class 7"
   ]
  },
  {
   "cell_type": "markdown",
   "id": "1d521770-ea46-4ffb-a3fd-481dcf9213cd",
   "metadata": {},
   "source": [
    "<div class=\"alert alert-block alert-warning\">\n",
    "\n",
    "Find the sample with the highest ugRNA in the dataframe"
   ]
  },
  {
   "cell_type": "markdown",
   "id": "bb9ce495-2157-4b67-b088-18be8c90e24f",
   "metadata": {},
   "source": [
    "<details>\n",
    "<summary><i>Hints and tips</i></summary>\n",
    "\n",
    "Use `.max()`\n",
    "</details> "
   ]
  },
  {
   "cell_type": "code",
   "execution_count": null,
   "id": "3ef77729-c3a1-46dd-bec6-dedcd16f88be",
   "metadata": {},
   "outputs": [],
   "source": [
    "# find the maximum value for ugRNA\n",
    "\n"
   ]
  },
  {
   "cell_type": "code",
   "execution_count": 16,
   "id": "0eb88d92-08dc-4a9e-9480-9d9ae19d71ff",
   "metadata": {},
   "outputs": [
    {
     "data": {
      "text/plain": [
       "192"
      ]
     },
     "execution_count": 16,
     "metadata": {},
     "output_type": "execute_result"
    }
   ],
   "source": [
    "# find the maximum value for ugRNA\n",
    "filtered_metadata[\"ugRNA\"].max()\n"
   ]
  },
  {
   "cell_type": "raw",
   "id": "82a83d64-1a1e-4030-98d6-ad60275ae6c8",
   "metadata": {},
   "source": [
    "Answer:\n",
    "\n",
    "192"
   ]
  }
 ],
 "metadata": {
  "kernelspec": {
   "display_name": "Python 3 (ipykernel)",
   "language": "python",
   "name": "python3"
  },
  "language_info": {
   "codemirror_mode": {
    "name": "ipython",
    "version": 3
   },
   "file_extension": ".py",
   "mimetype": "text/x-python",
   "name": "python",
   "nbconvert_exporter": "python",
   "pygments_lexer": "ipython3",
   "version": "3.12.11"
  }
 },
 "nbformat": 4,
 "nbformat_minor": 5
}
