{
 "cells": [
  {
   "cell_type": "markdown",
   "id": "0b61d756-e9f9-4f7d-8f58-c4c7df147515",
   "metadata": {},
   "source": [
    "This notebook recaps some of the python programming you have learnt over the last 2 years. Work on it in pairs, with one person typing (driver) and the other person asking questions or making suggestions (navigator) until you get to the answer provided. Switch roles each exercise. You are not expected to remember it all immediately - use the cheat sheets, ELM and google to remind yourselves."
   ]
  },
  {
   "cell_type": "markdown",
   "id": "53bf8ec1-c873-4d78-8b08-63d6994481c6",
   "metadata": {},
   "source": [
    "# Exercise 1:\n",
    "When we run an experiment, we give each sample a unique identifier. When these results are stored in a public database, this unique identifier is called an <i>accession</i>. \n",
    "\n",
    "To analyse a dataset, we often want to be able to loop through the list of samples, processing each sample in the same way.\n",
    "\n",
    "The file `data/Schistosoma_mansoni/list_ids.txt` contains a single word on each line, representing a sample accession. Use python to read the file and make a list of accessions. Make sure you remove whitespace/newline characters using `.strip()`. Print how many accessions there are in the file?"
   ]
  },
  {
   "cell_type": "code",
   "execution_count": null,
   "id": "597d7660-2ad7-493f-8055-94e1cce43ba4",
   "metadata": {},
   "outputs": [],
   "source": [
    "accessions = []\n",
    "\n",
    "# (1) open the file in read mode\n",
    "\n",
    "# (2) use a for loop over the lines in the file \n",
    "\n",
    "# (3) remove any whitespace/newline characters from the line\n",
    "\n",
    "# (4) add the new accession to the list\n",
    "\n",
    "print(f\"There are {len(accessions)} accessions in the file\")"
   ]
  },
  {
   "cell_type": "code",
   "execution_count": 1,
   "id": "6a0c7d8b-5286-4433-a968-afe94e745d31",
   "metadata": {},
   "outputs": [
    {
     "name": "stdout",
     "output_type": "stream",
     "text": [
      "There are 12 accessions in the file\n"
     ]
    }
   ],
   "source": [
    "accessions = []\n",
    "\n",
    "# (1) open the file in read mode\n",
    "with open(f\"data/Schistosoma_mansoni/list_ids.txt\",\"r\") as f:\n",
    "    # (2) use a for loop over the lines in the file \n",
    "    for line in f:\n",
    "        # (3) remove any whitespace/newline characters from the line\n",
    "        # (4) add the new accession to the list\n",
    "        accessions.append(line.strip())\n",
    "\n",
    "print(f\"There are {len(accessions)} accessions in the file\")"
   ]
  },
  {
   "cell_type": "raw",
   "id": "4f439d85-0a4b-40dd-87ac-322f74f7f1f7",
   "metadata": {},
   "source": [
    "Answer:\n",
    "There are 12 accessions in the file"
   ]
  },
  {
   "cell_type": "markdown",
   "id": "c358ddc9-efc8-4e67-86db-a6fcd233de99",
   "metadata": {},
   "source": [
    "<details>\n",
    "<summary><i>Hints and tips</i></summary>\n",
    "\n",
    "    \n",
    "    Note that there is more than one correct solution. \n",
    "\n",
    "    For example, you can open the file directly in step (1), and then you need to close the file again after the end of the loop, or you can use a `with open...` statement, in which case you need to indent the code you want to run while the file is open.\n",
    "\n",
    "    You can combine steps (3) and (4) into a single line.\n",
    "\n",
    "</details>"
   ]
  },
  {
   "cell_type": "markdown",
   "id": "90c619c6-5266-4b65-9dc1-800f8774cb95",
   "metadata": {},
   "source": [
    "# Exercise 2:\n",
    "\n",
    "Tables of data are often stored in a CSV file. We can use `pandas` to read these files. Sometimes a table will have row names, otherwise pandas gives each row a numeric id.\n",
    "\n",
    "Read in the pandas dataframe `data/Schistosoma_mansoni/metadata.csv` using the first column as the row name. Print out the index. "
   ]
  },
  {
   "cell_type": "code",
   "execution_count": null,
   "id": "182e5dde-67ae-45fe-93b8-604e29e8412a",
   "metadata": {},
   "outputs": [],
   "source": [
    "import pandas as pd\n",
    "\n",
    "# (1) create a dataframe called metadata from the file\n",
    "\n",
    "print(metadata.index)"
   ]
  },
  {
   "cell_type": "code",
   "execution_count": 2,
   "id": "cbef7fbb-0b60-4d8d-b88d-802a170a6a70",
   "metadata": {},
   "outputs": [
    {
     "name": "stdout",
     "output_type": "stream",
     "text": [
      "Index(['ERR022872', 'ERR022873', 'ERR022874', 'ERR022875', 'ERR022876',\n",
      "       'ERR022877', 'ERR022878', 'ERR022879', 'ERR022880', 'ERR022881',\n",
      "       'ERR022882', 'ERR022883'],\n",
      "      dtype='object', name='accession')\n"
     ]
    }
   ],
   "source": [
    "import pandas as pd\n",
    "\n",
    "# (1) create a dataframe called metadata from the file\n",
    "metadata = pd.read_csv(\"data/Schistosoma_mansoni/metadata.csv\", index_col=0)\n",
    "\n",
    "print(metadata.index)"
   ]
  },
  {
   "cell_type": "raw",
   "id": "2ef724bc-349d-46ae-8833-4a9426743702",
   "metadata": {},
   "source": [
    "Index(['ERR022872', 'ERR022873', 'ERR022874', 'ERR022875', 'ERR022876',\n",
    "       'ERR022877', 'ERR022878', 'ERR022879', 'ERR022880', 'ERR022881',\n",
    "       'ERR022882', 'ERR022883'],\n",
    "      dtype='object', name='accession')"
   ]
  },
  {
   "cell_type": "markdown",
   "id": "c19d76f2-1a62-4ccf-b189-4688e0d908b0",
   "metadata": {},
   "source": [
    "# Exercise 3:\n",
    "Subset the dataframe from Exercise 2 to include only rows where the \"stage\" column is `cercarium`  or `24 hr schistosomulum`. How many rows are there now?"
   ]
  },
  {
   "cell_type": "code",
   "execution_count": null,
   "id": "880d123d-1e64-4e4f-8e5b-296c2f399a77",
   "metadata": {},
   "outputs": [],
   "source": [
    "# (1) create a dataframe called metadata_s with the subset of rows\n",
    "\n",
    "print(f\"The new dataframe has {len(metadata_s)} rows\")"
   ]
  },
  {
   "cell_type": "code",
   "execution_count": 3,
   "id": "11354edc-c6cf-4359-b209-b19f3b8d4211",
   "metadata": {},
   "outputs": [
    {
     "name": "stdout",
     "output_type": "stream",
     "text": [
      "The new dataframe has 8 rows\n"
     ]
    }
   ],
   "source": [
    "# (1) create a dataframe called metadata_s with the subset of rows\n",
    "metadata_s = metadata[metadata[\"stage\"].isin([\"cercarium\",\"24 hr schistosomulum\"])]\n",
    "\n",
    "print(f\"The new dataframe has {len(metadata_s)} rows\")"
   ]
  },
  {
   "cell_type": "raw",
   "id": "e1b4ceee-d290-4142-8acc-8590394702c3",
   "metadata": {},
   "source": [
    "Answer:\n",
    "The new dataframe has 8 rows"
   ]
  },
  {
   "cell_type": "markdown",
   "id": "d41f913b-cf4a-4b63-9230-3d5e3532c32d",
   "metadata": {},
   "source": [
    "# Exercise 4:\n",
    "\n",
    "We often want to combine information from more than one file. Read in a second metadata table from `data/Schistosoma_mansoni/metadata2.tsv`. It has an accession column and a data column. Create a combined dataframe with `accession`, `stage` and `date` columns."
   ]
  },
  {
   "cell_type": "code",
   "execution_count": null,
   "id": "a741c8a5-4d86-4536-9482-eb17c785ca52",
   "metadata": {},
   "outputs": [],
   "source": [
    "# (1) create a dataframe called metadata2 from the new file\n",
    "\n",
    "# (2) create a combined dataframe\n",
    "\n",
    "print(combined_metadata)"
   ]
  },
  {
   "cell_type": "code",
   "execution_count": 4,
   "id": "5afb0c14-7643-49dd-aa7c-a5e53dba07a1",
   "metadata": {},
   "outputs": [
    {
     "name": "stdout",
     "output_type": "stream",
     "text": [
      "                          stage        date\n",
      "accession                                  \n",
      "ERR022872             cercarium  2025-08-22\n",
      "ERR022873   platyhelminth adult         NaN\n",
      "ERR022874   3 hr schistosomulum  2025-08-22\n",
      "ERR022875             cercarium  2025-08-21\n",
      "ERR022876   3 hr schistosomulum  2025-08-23\n",
      "ERR022877             cercarium  2025-08-22\n",
      "ERR022878             cercarium         NaN\n",
      "ERR022879   3 hr schistosomulum  2025-08-20\n",
      "ERR022880  24 hr schistosomulum         NaN\n",
      "ERR022881  24 hr schistosomulum         NaN\n",
      "ERR022882  24 hr schistosomulum         NaN\n",
      "ERR022883  24 hr schistosomulum  2025-08-20\n"
     ]
    }
   ],
   "source": [
    "# (1) create a dataframe called metadata2 from the new file\n",
    "metadata2 = pd.read_csv(\"data/Schistosoma_mansoni/metadata2.tsv\", index_col=0, sep=\"\\t\")\n",
    "\n",
    "# (2) create a combined dataframe\n",
    "combined_metadata = metadata.join(metadata2)\n",
    "\n",
    "print(combined_metadata)"
   ]
  },
  {
   "cell_type": "raw",
   "id": "42e9b397-9760-4feb-93b1-4c05af5742b2",
   "metadata": {},
   "source": [
    "Answer:\n",
    "                          stage        date\n",
    "accession                                  \n",
    "ERR022872             cercarium  2025-08-22\n",
    "ERR022873   platyhelminth adult         NaN\n",
    "ERR022874   3 hr schistosomulum  2025-08-22\n",
    "ERR022875             cercarium  2025-08-21\n",
    "ERR022876   3 hr schistosomulum  2025-08-23\n",
    "ERR022877             cercarium  2025-08-22\n",
    "ERR022878             cercarium         NaN\n",
    "ERR022879   3 hr schistosomulum  2025-08-20\n",
    "ERR022880  24 hr schistosomulum         NaN\n",
    "ERR022881  24 hr schistosomulum         NaN\n",
    "ERR022882  24 hr schistosomulum         NaN\n",
    "ERR022883  24 hr schistosomulum  2025-08-20"
   ]
  },
  {
   "cell_type": "markdown",
   "id": "97ce997f-d977-4f7a-97fd-dc7b26832c56",
   "metadata": {},
   "source": [
    "<details>\n",
    "<summary><i>Hints and tips</i></summary>\n",
    "\n",
    "    In this example, both dataframes had the same set of row names in the same order. You may want to remind yourselves how you might join the dataframes if this were not the case.\n",
    "\n",
    "</details>"
   ]
  },
  {
   "cell_type": "markdown",
   "id": "c204376b-daf8-4e21-871a-ca5644c9e2ec",
   "metadata": {},
   "source": [
    "# Exercise 5:\n",
    "\n",
    "Note that several of the dates in the combined dataframe don't exist. Set them to `2025-08-24`."
   ]
  },
  {
   "cell_type": "code",
   "execution_count": null,
   "id": "6816469b-8424-477c-8c88-cfbfb48d27c5",
   "metadata": {},
   "outputs": [],
   "source": [
    "# (1) fill in empty dates\n",
    "\n",
    "print(combined_metadata)"
   ]
  },
  {
   "cell_type": "code",
   "execution_count": 5,
   "id": "4121e381-5801-4a41-8e67-e0754443c069",
   "metadata": {},
   "outputs": [
    {
     "name": "stdout",
     "output_type": "stream",
     "text": [
      "                          stage        date\n",
      "accession                                  \n",
      "ERR022872             cercarium  2025-08-22\n",
      "ERR022873   platyhelminth adult  2025-08-24\n",
      "ERR022874   3 hr schistosomulum  2025-08-22\n",
      "ERR022875             cercarium  2025-08-21\n",
      "ERR022876   3 hr schistosomulum  2025-08-23\n",
      "ERR022877             cercarium  2025-08-22\n",
      "ERR022878             cercarium  2025-08-24\n",
      "ERR022879   3 hr schistosomulum  2025-08-20\n",
      "ERR022880  24 hr schistosomulum  2025-08-24\n",
      "ERR022881  24 hr schistosomulum  2025-08-24\n",
      "ERR022882  24 hr schistosomulum  2025-08-24\n",
      "ERR022883  24 hr schistosomulum  2025-08-20\n"
     ]
    }
   ],
   "source": [
    "# (1) fill in empty dates\n",
    "combined_metadata.fillna(\"2025-08-24\",inplace=True)\n",
    "\n",
    "print(combined_metadata)"
   ]
  },
  {
   "cell_type": "raw",
   "id": "235e14af-bb24-48f8-8dbb-9fd0f586bcaa",
   "metadata": {},
   "source": [
    "Answer:\n",
    "                          stage        date\n",
    "accession                                  \n",
    "ERR022872             cercarium  2025-08-22\n",
    "ERR022873   platyhelminth adult  2025-08-24\n",
    "ERR022874   3 hr schistosomulum  2025-08-22\n",
    "ERR022875             cercarium  2025-08-21\n",
    "ERR022876   3 hr schistosomulum  2025-08-23\n",
    "ERR022877             cercarium  2025-08-22\n",
    "ERR022878             cercarium  2025-08-24\n",
    "ERR022879   3 hr schistosomulum  2025-08-20\n",
    "ERR022880  24 hr schistosomulum  2025-08-24\n",
    "ERR022881  24 hr schistosomulum  2025-08-24\n",
    "ERR022882  24 hr schistosomulum  2025-08-24\n",
    "ERR022883  24 hr schistosomulum  2025-08-20"
   ]
  },
  {
   "cell_type": "markdown",
   "id": "2bfb1925-98ad-42b0-960f-accf6f492bad",
   "metadata": {},
   "source": [
    "# Exercise 6:\n",
    "\n",
    "Later in this workshop, we will be working with differential expression analysis. We will need filter the rows based on the values in several column values.\n",
    "\n",
    "Read in dataframe from `analysis/Schistosoma_mansoni/cercarum_vs_24h_schistosomulum.full.csv`. This contains differential expression data for a number of genes which may vary between the cercarium and schistosomulum life stages. Filter to the rows where both `padj < 0.05` and `abs(log2FoldChange) > 1`. \n",
    "\n",
    "Use `head()`, `describe()` and `info()` on the filtered dataframe to get an idea of what it looks like. "
   ]
  },
  {
   "cell_type": "code",
   "execution_count": null,
   "id": "b083bed5-b5a3-4538-a749-72d77cc84754",
   "metadata": {},
   "outputs": [],
   "source": [
    "# (1) read in the dataframe - does it have row names?\n",
    "\n",
    "# (2) create a filtered dataframe \n"
   ]
  },
  {
   "cell_type": "code",
   "execution_count": 7,
   "id": "47241d41-3d7d-44ae-bd21-c4082f24eee0",
   "metadata": {},
   "outputs": [],
   "source": [
    "# (1) read in the dataframe - does it have row names?\n",
    "df = pd.read_csv(\"analysis/Schistosoma_mansoni/cercarium_vs_24h_schistosomulum.full.csv\", index_col=0)\n",
    "\n",
    "# (2) create a filtered dataframe \n",
    "filtered_df=df[(df.padj<0.05)&(abs(df.log2FoldChange)>1)]"
   ]
  },
  {
   "cell_type": "code",
   "execution_count": 8,
   "id": "0dfbc2d8-fab7-4aa5-a9a1-1195bc28fc79",
   "metadata": {
    "scrolled": true
   },
   "outputs": [
    {
     "data": {
      "text/html": [
       "<div>\n",
       "<style scoped>\n",
       "    .dataframe tbody tr th:only-of-type {\n",
       "        vertical-align: middle;\n",
       "    }\n",
       "\n",
       "    .dataframe tbody tr th {\n",
       "        vertical-align: top;\n",
       "    }\n",
       "\n",
       "    .dataframe thead th {\n",
       "        text-align: right;\n",
       "    }\n",
       "</style>\n",
       "<table border=\"1\" class=\"dataframe\">\n",
       "  <thead>\n",
       "    <tr style=\"text-align: right;\">\n",
       "      <th></th>\n",
       "      <th>baseMean</th>\n",
       "      <th>log2FoldChange</th>\n",
       "      <th>lfcSE</th>\n",
       "      <th>stat</th>\n",
       "      <th>pvalue</th>\n",
       "      <th>padj</th>\n",
       "    </tr>\n",
       "    <tr>\n",
       "      <th>gene</th>\n",
       "      <th></th>\n",
       "      <th></th>\n",
       "      <th></th>\n",
       "      <th></th>\n",
       "      <th></th>\n",
       "      <th></th>\n",
       "    </tr>\n",
       "  </thead>\n",
       "  <tbody>\n",
       "    <tr>\n",
       "      <th>gene:Smp_000050</th>\n",
       "      <td>2824.491025</td>\n",
       "      <td>-1.787652</td>\n",
       "      <td>0.281826</td>\n",
       "      <td>-6.343098</td>\n",
       "      <td>2.251895e-10</td>\n",
       "      <td>7.984448e-10</td>\n",
       "    </tr>\n",
       "    <tr>\n",
       "      <th>gene:Smp_000080</th>\n",
       "      <td>12.055362</td>\n",
       "      <td>-1.996810</td>\n",
       "      <td>0.907545</td>\n",
       "      <td>-2.200231</td>\n",
       "      <td>2.779048e-02</td>\n",
       "      <td>4.268445e-02</td>\n",
       "    </tr>\n",
       "    <tr>\n",
       "      <th>gene:Smp_000100</th>\n",
       "      <td>26042.364286</td>\n",
       "      <td>2.741560</td>\n",
       "      <td>0.086656</td>\n",
       "      <td>31.637303</td>\n",
       "      <td>1.133753e-219</td>\n",
       "      <td>1.082960e-216</td>\n",
       "    </tr>\n",
       "    <tr>\n",
       "      <th>gene:Smp_000150</th>\n",
       "      <td>5933.919227</td>\n",
       "      <td>1.861954</td>\n",
       "      <td>0.238959</td>\n",
       "      <td>7.791934</td>\n",
       "      <td>6.599140e-15</td>\n",
       "      <td>3.227598e-14</td>\n",
       "    </tr>\n",
       "    <tr>\n",
       "      <th>gene:Smp_000160</th>\n",
       "      <td>821.898894</td>\n",
       "      <td>-3.572021</td>\n",
       "      <td>0.229266</td>\n",
       "      <td>-15.580266</td>\n",
       "      <td>9.914077e-55</td>\n",
       "      <td>3.322781e-53</td>\n",
       "    </tr>\n",
       "  </tbody>\n",
       "</table>\n",
       "</div>"
      ],
      "text/plain": [
       "                     baseMean  log2FoldChange     lfcSE       stat  \\\n",
       "gene                                                                 \n",
       "gene:Smp_000050   2824.491025       -1.787652  0.281826  -6.343098   \n",
       "gene:Smp_000080     12.055362       -1.996810  0.907545  -2.200231   \n",
       "gene:Smp_000100  26042.364286        2.741560  0.086656  31.637303   \n",
       "gene:Smp_000150   5933.919227        1.861954  0.238959   7.791934   \n",
       "gene:Smp_000160    821.898894       -3.572021  0.229266 -15.580266   \n",
       "\n",
       "                        pvalue           padj  \n",
       "gene                                           \n",
       "gene:Smp_000050   2.251895e-10   7.984448e-10  \n",
       "gene:Smp_000080   2.779048e-02   4.268445e-02  \n",
       "gene:Smp_000100  1.133753e-219  1.082960e-216  \n",
       "gene:Smp_000150   6.599140e-15   3.227598e-14  \n",
       "gene:Smp_000160   9.914077e-55   3.322781e-53  "
      ]
     },
     "execution_count": 8,
     "metadata": {},
     "output_type": "execute_result"
    }
   ],
   "source": [
    "filtered_df.head()"
   ]
  },
  {
   "cell_type": "code",
   "execution_count": 9,
   "id": "6c8b9873-82de-4610-a62c-bcdab283e611",
   "metadata": {},
   "outputs": [
    {
     "data": {
      "text/html": [
       "<div>\n",
       "<style scoped>\n",
       "    .dataframe tbody tr th:only-of-type {\n",
       "        vertical-align: middle;\n",
       "    }\n",
       "\n",
       "    .dataframe tbody tr th {\n",
       "        vertical-align: top;\n",
       "    }\n",
       "\n",
       "    .dataframe thead th {\n",
       "        text-align: right;\n",
       "    }\n",
       "</style>\n",
       "<table border=\"1\" class=\"dataframe\">\n",
       "  <thead>\n",
       "    <tr style=\"text-align: right;\">\n",
       "      <th></th>\n",
       "      <th>baseMean</th>\n",
       "      <th>log2FoldChange</th>\n",
       "      <th>lfcSE</th>\n",
       "      <th>stat</th>\n",
       "      <th>pvalue</th>\n",
       "      <th>padj</th>\n",
       "    </tr>\n",
       "  </thead>\n",
       "  <tbody>\n",
       "    <tr>\n",
       "      <th>count</th>\n",
       "      <td>3918.000000</td>\n",
       "      <td>3918.000000</td>\n",
       "      <td>3918.000000</td>\n",
       "      <td>3918.000000</td>\n",
       "      <td>3.918000e+03</td>\n",
       "      <td>3.918000e+03</td>\n",
       "    </tr>\n",
       "    <tr>\n",
       "      <th>mean</th>\n",
       "      <td>3761.137551</td>\n",
       "      <td>0.095166</td>\n",
       "      <td>0.341424</td>\n",
       "      <td>0.182178</td>\n",
       "      <td>7.691458e-04</td>\n",
       "      <td>1.246876e-03</td>\n",
       "    </tr>\n",
       "    <tr>\n",
       "      <th>std</th>\n",
       "      <td>23089.923115</td>\n",
       "      <td>2.739577</td>\n",
       "      <td>0.282832</td>\n",
       "      <td>9.650298</td>\n",
       "      <td>3.468202e-03</td>\n",
       "      <td>5.456012e-03</td>\n",
       "    </tr>\n",
       "    <tr>\n",
       "      <th>min</th>\n",
       "      <td>1.908885</td>\n",
       "      <td>-10.592026</td>\n",
       "      <td>0.067425</td>\n",
       "      <td>-32.764926</td>\n",
       "      <td>4.548872e-309</td>\n",
       "      <td>2.225074e-308</td>\n",
       "    </tr>\n",
       "    <tr>\n",
       "      <th>25%</th>\n",
       "      <td>151.236041</td>\n",
       "      <td>-1.899617</td>\n",
       "      <td>0.183211</td>\n",
       "      <td>-7.450183</td>\n",
       "      <td>8.701742e-27</td>\n",
       "      <td>8.470630e-26</td>\n",
       "    </tr>\n",
       "    <tr>\n",
       "      <th>50%</th>\n",
       "      <td>731.102596</td>\n",
       "      <td>-1.014627</td>\n",
       "      <td>0.258149</td>\n",
       "      <td>-2.288461</td>\n",
       "      <td>3.072762e-14</td>\n",
       "      <td>1.436306e-13</td>\n",
       "    </tr>\n",
       "    <tr>\n",
       "      <th>75%</th>\n",
       "      <td>2460.575794</td>\n",
       "      <td>1.985204</td>\n",
       "      <td>0.379917</td>\n",
       "      <td>7.709872</td>\n",
       "      <td>1.695995e-07</td>\n",
       "      <td>4.705582e-07</td>\n",
       "    </tr>\n",
       "    <tr>\n",
       "      <th>max</th>\n",
       "      <td>834912.545669</td>\n",
       "      <td>12.561855</td>\n",
       "      <td>3.193867</td>\n",
       "      <td>40.996409</td>\n",
       "      <td>3.204920e-02</td>\n",
       "      <td>4.871641e-02</td>\n",
       "    </tr>\n",
       "  </tbody>\n",
       "</table>\n",
       "</div>"
      ],
      "text/plain": [
       "            baseMean  log2FoldChange        lfcSE         stat         pvalue  \\\n",
       "count    3918.000000     3918.000000  3918.000000  3918.000000   3.918000e+03   \n",
       "mean     3761.137551        0.095166     0.341424     0.182178   7.691458e-04   \n",
       "std     23089.923115        2.739577     0.282832     9.650298   3.468202e-03   \n",
       "min         1.908885      -10.592026     0.067425   -32.764926  4.548872e-309   \n",
       "25%       151.236041       -1.899617     0.183211    -7.450183   8.701742e-27   \n",
       "50%       731.102596       -1.014627     0.258149    -2.288461   3.072762e-14   \n",
       "75%      2460.575794        1.985204     0.379917     7.709872   1.695995e-07   \n",
       "max    834912.545669       12.561855     3.193867    40.996409   3.204920e-02   \n",
       "\n",
       "                padj  \n",
       "count   3.918000e+03  \n",
       "mean    1.246876e-03  \n",
       "std     5.456012e-03  \n",
       "min    2.225074e-308  \n",
       "25%     8.470630e-26  \n",
       "50%     1.436306e-13  \n",
       "75%     4.705582e-07  \n",
       "max     4.871641e-02  "
      ]
     },
     "execution_count": 9,
     "metadata": {},
     "output_type": "execute_result"
    }
   ],
   "source": [
    "filtered_df.describe()"
   ]
  },
  {
   "cell_type": "code",
   "execution_count": 10,
   "id": "223de197-0d4b-49ff-b318-86441c82b875",
   "metadata": {},
   "outputs": [
    {
     "name": "stdout",
     "output_type": "stream",
     "text": [
      "<class 'pandas.core.frame.DataFrame'>\n",
      "Index: 3918 entries, gene:Smp_000050 to gene:Smp_900110\n",
      "Data columns (total 6 columns):\n",
      " #   Column          Non-Null Count  Dtype  \n",
      "---  ------          --------------  -----  \n",
      " 0   baseMean        3918 non-null   float64\n",
      " 1   log2FoldChange  3918 non-null   float64\n",
      " 2   lfcSE           3918 non-null   float64\n",
      " 3   stat            3918 non-null   float64\n",
      " 4   pvalue          3918 non-null   float64\n",
      " 5   padj            3918 non-null   float64\n",
      "dtypes: float64(6)\n",
      "memory usage: 214.3+ KB\n"
     ]
    }
   ],
   "source": [
    "filtered_df.info()"
   ]
  },
  {
   "cell_type": "code",
   "execution_count": null,
   "id": "52e6433f-4e8c-4528-8467-4ac5c573a563",
   "metadata": {},
   "outputs": [],
   "source": []
  }
 ],
 "metadata": {
  "kernelspec": {
   "display_name": "Python 3 (ipykernel)",
   "language": "python",
   "name": "python3"
  },
  "language_info": {
   "codemirror_mode": {
    "name": "ipython",
    "version": 3
   },
   "file_extension": ".py",
   "mimetype": "text/x-python",
   "name": "python",
   "nbconvert_exporter": "python",
   "pygments_lexer": "ipython3",
   "version": "3.10.14"
  }
 },
 "nbformat": 4,
 "nbformat_minor": 5
}
