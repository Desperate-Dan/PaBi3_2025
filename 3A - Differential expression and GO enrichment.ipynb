{
 "cells": [
  {
   "cell_type": "code",
   "execution_count": null,
   "id": "18f72c61-aa3a-49d5-addf-ea35fcc91582",
   "metadata": {},
   "outputs": [],
   "source": []
  },
  {
   "cell_type": "markdown",
   "id": "542fdaa8-1e05-4605-94f8-b6bc885fc64a",
   "metadata": {},
   "source": [
    "# What to expect\n",
    "\n",
    "In notebook 2A (and 2B for your dataset) we:\n",
    "\n",
    "- Had a look at the mapping results\n",
    "- Combined reads per gene from all the samples in our experiment into a master dataframe and stored it as \"analysis/Schistosoma_mansoni/star/ReadsPerGene.csv\"\n",
    "- Normalised the reads using PyDESeq2\n",
    "- Visualised our results in a PCA plot\n",
    "\n",
    "In this session, we will complete the analysis to find out which genes are differentially expressed. We will do this first for the example dataset <i>Schistosoma mansoni</i>, and then in notebook 3B you will repeat the process for your chosen dataset. \n",
    "\n",
    "For your dataset, you will also look at the GO terms and metabolic pathways associated with your differentially expressed genes."
   ]
  },
  {
   "cell_type": "markdown",
   "id": "f1a5f7c0-f1d8-4779-9b9c-0e9b8d76ebc7",
   "metadata": {},
   "source": [
    "# Set up\n",
    "First, we need to import the required libraries and install pydeseq2 again"
   ]
  },
  {
   "cell_type": "code",
   "execution_count": 1,
   "id": "ec138a25-da0c-4420-88ca-72fe4e6697e0",
   "metadata": {},
   "outputs": [
    {
     "name": "stdout",
     "output_type": "stream",
     "text": [
      "\u001b[31mERROR: pip's dependency resolver does not currently take into account all the packages that are installed. This behaviour is the source of the following dependency conflicts.\n",
      "langchain-core 0.2.40 requires packaging<25,>=23.2, but you have packaging 25.0 which is incompatible.\u001b[0m\u001b[31m\n",
      "\u001b[0m"
     ]
    }
   ],
   "source": [
    "# import required libraries\n",
    "import pandas as pd\n",
    "\n",
    "#Install PyDESeq2 and import required classes\n",
    "! pip install --quiet pydeseq2\n",
    "from pydeseq2.dds import DeseqDataSet\n",
    "from pydeseq2.ds import DeseqStats"
   ]
  },
  {
   "cell_type": "markdown",
   "id": "a625d64d-87e6-4c07-ac2a-1f139ef1072c",
   "metadata": {},
   "source": [
    "We now need to create the dds object again, as we will use it for the next steps of the analysis.\n",
    "\n",
    "As you might remember from workshop 2A, the <i>Schistosoma mansoni</i> dataset had samples from four different stages: 3 hr schistosomulum, 24 hr schistosomulum, cercarium and platyhelminth adult. We want to focus on comparing cercarium and 24hr schistosomulum."
   ]
  },
  {
   "cell_type": "markdown",
   "id": "99dbf38b-22da-4bd8-a826-a1bbca259874",
   "metadata": {},
   "source": [
    "<div class=\"alert alert-block alert-warning\">\n",
    "    \n",
    "Create the counts and the metadata tables and restrict them so that they only contain the conditions we want to compare."
   ]
  },
  {
   "cell_type": "code",
   "execution_count": null,
   "id": "810a4b3a-1df2-494b-ab96-1d47f752b587",
   "metadata": {},
   "outputs": [],
   "source": [
    "# load the counts and metadata again - remember that we have to transpose the ReadsPerGene table to use it in PyDESeq2\n",
    "counts = \n",
    "metadata = \n",
    "\n",
    "# restrict to the 2 stages we want to compare\n",
    "counts_s = \n",
    "metadata_s = "
   ]
  },
  {
   "cell_type": "code",
   "execution_count": 2,
   "id": "f558397d-b50c-4b65-9d47-761627e151c1",
   "metadata": {},
   "outputs": [],
   "source": [
    "# load the counts and metadata again - remember that we have to transpose the ReadsPerGene table to use it in PyDESeq2\n",
    "counts = pd.read_csv(\"analysis/Schistosoma_mansoni/star/ReadsPerGene.csv\", index_col=0).T\n",
    "metadata = pd.read_csv(\"data/Schistosoma_mansoni/metadata.csv\", index_col=0)\n",
    "\n",
    "# restrict to the 2 stages we want to compare\n",
    "counts_s = counts[metadata[\"stage\"].isin([\"cercarium\",\"24 hr schistosomulum\"])]\n",
    "metadata_s = metadata[metadata[\"stage\"].isin([\"cercarium\",\"24 hr schistosomulum\"])]"
   ]
  },
  {
   "cell_type": "markdown",
   "id": "49689673-da16-4ca2-ba10-68387c341a85",
   "metadata": {},
   "source": [
    "Now that we have the counts and metadata, we can create the deseq2 dataset again"
   ]
  },
  {
   "cell_type": "code",
   "execution_count": 3,
   "id": "d38b96a9-1efa-4074-8484-dfa83921097c",
   "metadata": {},
   "outputs": [],
   "source": [
    "# create DESeq2 dataset object\n",
    "dds = DeseqDataSet(\n",
    "    counts=counts_s,\n",
    "    metadata=metadata_s,\n",
    "    design=\"stage\",  # compare samples based on the developmental \"stage\"\n",
    "    refit_cooks=True\n",
    ")"
   ]
  },
  {
   "cell_type": "markdown",
   "id": "2cbcd639-a5be-4d29-8695-a75171330405",
   "metadata": {},
   "source": [
    "# Differential Expression analysis"
   ]
  },
  {
   "cell_type": "markdown",
   "id": "7881d634",
   "metadata": {},
   "source": [
    "As we did in notebook 2A, we will apply the `deseq2` method to our dds object. Remember that this method normalises the data, estimates the dispersion and calculates the log fold change (LFC) based on the design factor."
   ]
  },
  {
   "cell_type": "code",
   "execution_count": 4,
   "id": "0a9eec29-7561-4919-956d-63f1d705025d",
   "metadata": {},
   "outputs": [
    {
     "name": "stdout",
     "output_type": "stream",
     "text": [
      "Using None as control genes, passed at DeseqDataSet initialization\n"
     ]
    },
    {
     "name": "stderr",
     "output_type": "stream",
     "text": [
      "Fitting size factors...\n",
      "... done in 0.01 seconds.\n",
      "\n",
      "Fitting dispersions...\n",
      "... done in 11.11 seconds.\n",
      "\n",
      "Fitting dispersion trend curve...\n",
      "... done in 0.30 seconds.\n",
      "\n",
      "Fitting MAP dispersions...\n",
      "... done in 12.88 seconds.\n",
      "\n",
      "Fitting LFCs...\n",
      "... done in 6.12 seconds.\n",
      "\n",
      "Calculating cook's distance...\n",
      "... done in 0.05 seconds.\n",
      "\n",
      "Replacing 0 outlier genes.\n",
      "\n"
     ]
    }
   ],
   "source": [
    "# Run DESeq2\n",
    "dds.deseq2()"
   ]
  },
  {
   "cell_type": "markdown",
   "id": "cbc79f18",
   "metadata": {},
   "source": [
    "This time, however, we also want to perform a statistical analysis, to find out which differences in gene expression are statistically significant. To do that, we use the class `DeseqStats` on our dds object, and store the output in a new object called \"stat_res\""
   ]
  },
  {
   "cell_type": "code",
   "execution_count": 5,
   "id": "7d3d80a2-9d1b-4b0d-abd2-43cafb19c3d6",
   "metadata": {},
   "outputs": [],
   "source": [
    "stat_res=DeseqStats(dds, contrast=[\"stage\", \"cercarium\", \"24 hr schistosomulum\"])"
   ]
  },
  {
   "cell_type": "markdown",
   "id": "4c4ba029-8574-486e-9460-1043ce703332",
   "metadata": {},
   "source": [
    "Note that in the command we have to specify what we want to use in our pairwise comparison (`contrast`) \n",
    "\n",
    "- `stage` : this indicates that we are comparing samples based on their developmental stages\n",
    "- `cercarium` and `24 hr schistosomulum`: this indicates the two stages we want to compare"
   ]
  },
  {
   "cell_type": "markdown",
   "id": "44a6eba0",
   "metadata": {},
   "source": [
    "Now, we have to generate a summary of the statistical analysis contained in the \"stat_res\" object. To do that, we use the `summary` method."
   ]
  },
  {
   "cell_type": "code",
   "execution_count": 6,
   "id": "78c63747",
   "metadata": {},
   "outputs": [
    {
     "name": "stderr",
     "output_type": "stream",
     "text": [
      "Running Wald tests...\n"
     ]
    },
    {
     "name": "stdout",
     "output_type": "stream",
     "text": [
      "Log2 fold change & Wald test p-value: stage cercarium vs 24 hr schistosomulum\n",
      "                      baseMean  log2FoldChange     lfcSE      stat  \\\n",
      "gene                                                                 \n",
      "gene:Smp_000020    4894.181166        0.220494  0.167263  1.318248   \n",
      "gene:Smp_000030   18780.967017        0.640823  0.113390  5.651506   \n",
      "gene:Smp_000040    5663.668190       -0.609066  0.135711 -4.487977   \n",
      "gene:Smp_000050    2824.491025       -1.787652  0.281826 -6.343098   \n",
      "gene:Smp_000070    1794.569198        0.465374  0.162853  2.857636   \n",
      "...                        ...             ...       ...       ...   \n",
      "gene:Smp_900070   41334.608763        2.999898  0.434492  6.904383   \n",
      "gene:Smp_900080    6394.476687        3.246539  0.357577  9.079279   \n",
      "gene:Smp_900090  159155.732267        4.304425  0.436310  9.865518   \n",
      "gene:Smp_900100    5753.668599        1.824721  0.937269  1.946848   \n",
      "gene:Smp_900110  114952.325564        3.702547  0.455812  8.122969   \n",
      "\n",
      "                       pvalue          padj  \n",
      "gene                                         \n",
      "gene:Smp_000020  1.874205e-01  2.439020e-01  \n",
      "gene:Smp_000030  1.590481e-08  4.838303e-08  \n",
      "gene:Smp_000040  7.190276e-06  1.711393e-05  \n",
      "gene:Smp_000050  2.251895e-10  7.984448e-10  \n",
      "gene:Smp_000070  4.268094e-03  7.386997e-03  \n",
      "...                       ...           ...  \n",
      "gene:Smp_900070  5.042215e-12  2.021966e-11  \n",
      "gene:Smp_900080  1.092963e-19  7.229905e-19  \n",
      "gene:Smp_900090  5.873074e-23  4.682771e-22  \n",
      "gene:Smp_900100  5.155293e-02  7.570078e-02  \n",
      "gene:Smp_900110  4.549167e-16  2.394140e-15  \n",
      "\n",
      "[9896 rows x 6 columns]\n"
     ]
    },
    {
     "name": "stderr",
     "output_type": "stream",
     "text": [
      "... done in 2.52 seconds.\n",
      "\n"
     ]
    }
   ],
   "source": [
    "stat_res.summary()"
   ]
  },
  {
   "cell_type": "markdown",
   "id": "59424c9b",
   "metadata": {},
   "source": [
    "Voila! This is the raw result of our differential expression analysis. We can find out more about the columns in these results on the [page for the DESeq2 gene-level differential expression workflow](https://master.bioconductor.org/packages/release/workflows/vignettes/rnaseqGene/inst/doc/rnaseqGene.html#building-the-results-table) , as the python module we are using was developed from the DESeq2 tool. \n",
    "\n",
    "Let's take a moment to make sure we understand the results."
   ]
  },
  {
   "cell_type": "markdown",
   "id": "c9edc2dc-2579-4f25-aafe-8498e3ececa8",
   "metadata": {},
   "source": [
    "<div class=\"alert alert-block alert-warning\">\n",
    "\n",
    "Please discuss the following in your group:\n",
    "\n",
    "- baseMean: what is this value? How is it calculated?\n",
    "  \n",
    "- log2FoldChange: what is this value? Why do you think the fold change is calculated as log2? What does a positive log2Foldchange mean?\n",
    "  \n",
    "- lfcSE: what is this value?\n",
    "\n",
    "- stat: what is this value?\n",
    "\n",
    "- pvalue and padj: what is the difference between these two values?"
   ]
  },
  {
   "cell_type": "markdown",
   "id": "43694e80-bf1c-40e5-9ee3-c1599fc6171d",
   "metadata": {},
   "source": [
    "You can add some notes from your discussion on this text cell\n",
    "\n",
    "\\\n",
    "\n",
    "\\\n",
    "\n",
    "\\"
   ]
  },
  {
   "cell_type": "markdown",
   "id": "7968c8a6",
   "metadata": {},
   "source": [
    "We will now store the results in a dataframe called \"res\", so we can work with the results.\n",
    "\n",
    "To do this, we will apply the PyDESeq2 attribute `results_df` to our stat_res object"
   ]
  },
  {
   "cell_type": "code",
   "execution_count": 7,
   "id": "bfd6e771-7a97-4199-9404-76a5a7d7fe9d",
   "metadata": {},
   "outputs": [
    {
     "data": {
      "text/html": [
       "<div>\n",
       "<style scoped>\n",
       "    .dataframe tbody tr th:only-of-type {\n",
       "        vertical-align: middle;\n",
       "    }\n",
       "\n",
       "    .dataframe tbody tr th {\n",
       "        vertical-align: top;\n",
       "    }\n",
       "\n",
       "    .dataframe thead th {\n",
       "        text-align: right;\n",
       "    }\n",
       "</style>\n",
       "<table border=\"1\" class=\"dataframe\">\n",
       "  <thead>\n",
       "    <tr style=\"text-align: right;\">\n",
       "      <th></th>\n",
       "      <th>baseMean</th>\n",
       "      <th>log2FoldChange</th>\n",
       "      <th>lfcSE</th>\n",
       "      <th>stat</th>\n",
       "      <th>pvalue</th>\n",
       "      <th>padj</th>\n",
       "    </tr>\n",
       "    <tr>\n",
       "      <th>gene</th>\n",
       "      <th></th>\n",
       "      <th></th>\n",
       "      <th></th>\n",
       "      <th></th>\n",
       "      <th></th>\n",
       "      <th></th>\n",
       "    </tr>\n",
       "  </thead>\n",
       "  <tbody>\n",
       "    <tr>\n",
       "      <th>gene:Smp_000020</th>\n",
       "      <td>4894.181166</td>\n",
       "      <td>0.220494</td>\n",
       "      <td>0.167263</td>\n",
       "      <td>1.318248</td>\n",
       "      <td>1.874205e-01</td>\n",
       "      <td>2.439020e-01</td>\n",
       "    </tr>\n",
       "    <tr>\n",
       "      <th>gene:Smp_000030</th>\n",
       "      <td>18780.967017</td>\n",
       "      <td>0.640823</td>\n",
       "      <td>0.113390</td>\n",
       "      <td>5.651506</td>\n",
       "      <td>1.590481e-08</td>\n",
       "      <td>4.838303e-08</td>\n",
       "    </tr>\n",
       "    <tr>\n",
       "      <th>gene:Smp_000040</th>\n",
       "      <td>5663.668190</td>\n",
       "      <td>-0.609066</td>\n",
       "      <td>0.135711</td>\n",
       "      <td>-4.487977</td>\n",
       "      <td>7.190276e-06</td>\n",
       "      <td>1.711393e-05</td>\n",
       "    </tr>\n",
       "    <tr>\n",
       "      <th>gene:Smp_000050</th>\n",
       "      <td>2824.491025</td>\n",
       "      <td>-1.787652</td>\n",
       "      <td>0.281826</td>\n",
       "      <td>-6.343098</td>\n",
       "      <td>2.251895e-10</td>\n",
       "      <td>7.984448e-10</td>\n",
       "    </tr>\n",
       "    <tr>\n",
       "      <th>gene:Smp_000070</th>\n",
       "      <td>1794.569198</td>\n",
       "      <td>0.465374</td>\n",
       "      <td>0.162853</td>\n",
       "      <td>2.857636</td>\n",
       "      <td>4.268094e-03</td>\n",
       "      <td>7.386997e-03</td>\n",
       "    </tr>\n",
       "    <tr>\n",
       "      <th>...</th>\n",
       "      <td>...</td>\n",
       "      <td>...</td>\n",
       "      <td>...</td>\n",
       "      <td>...</td>\n",
       "      <td>...</td>\n",
       "      <td>...</td>\n",
       "    </tr>\n",
       "    <tr>\n",
       "      <th>gene:Smp_900070</th>\n",
       "      <td>41334.608763</td>\n",
       "      <td>2.999898</td>\n",
       "      <td>0.434492</td>\n",
       "      <td>6.904383</td>\n",
       "      <td>5.042215e-12</td>\n",
       "      <td>2.021966e-11</td>\n",
       "    </tr>\n",
       "    <tr>\n",
       "      <th>gene:Smp_900080</th>\n",
       "      <td>6394.476687</td>\n",
       "      <td>3.246539</td>\n",
       "      <td>0.357577</td>\n",
       "      <td>9.079279</td>\n",
       "      <td>1.092963e-19</td>\n",
       "      <td>7.229905e-19</td>\n",
       "    </tr>\n",
       "    <tr>\n",
       "      <th>gene:Smp_900090</th>\n",
       "      <td>159155.732267</td>\n",
       "      <td>4.304425</td>\n",
       "      <td>0.436310</td>\n",
       "      <td>9.865518</td>\n",
       "      <td>5.873074e-23</td>\n",
       "      <td>4.682771e-22</td>\n",
       "    </tr>\n",
       "    <tr>\n",
       "      <th>gene:Smp_900100</th>\n",
       "      <td>5753.668599</td>\n",
       "      <td>1.824721</td>\n",
       "      <td>0.937269</td>\n",
       "      <td>1.946848</td>\n",
       "      <td>5.155293e-02</td>\n",
       "      <td>7.570078e-02</td>\n",
       "    </tr>\n",
       "    <tr>\n",
       "      <th>gene:Smp_900110</th>\n",
       "      <td>114952.325564</td>\n",
       "      <td>3.702547</td>\n",
       "      <td>0.455812</td>\n",
       "      <td>8.122969</td>\n",
       "      <td>4.549167e-16</td>\n",
       "      <td>2.394140e-15</td>\n",
       "    </tr>\n",
       "  </tbody>\n",
       "</table>\n",
       "<p>9896 rows × 6 columns</p>\n",
       "</div>"
      ],
      "text/plain": [
       "                      baseMean  log2FoldChange     lfcSE      stat  \\\n",
       "gene                                                                 \n",
       "gene:Smp_000020    4894.181166        0.220494  0.167263  1.318248   \n",
       "gene:Smp_000030   18780.967017        0.640823  0.113390  5.651506   \n",
       "gene:Smp_000040    5663.668190       -0.609066  0.135711 -4.487977   \n",
       "gene:Smp_000050    2824.491025       -1.787652  0.281826 -6.343098   \n",
       "gene:Smp_000070    1794.569198        0.465374  0.162853  2.857636   \n",
       "...                        ...             ...       ...       ...   \n",
       "gene:Smp_900070   41334.608763        2.999898  0.434492  6.904383   \n",
       "gene:Smp_900080    6394.476687        3.246539  0.357577  9.079279   \n",
       "gene:Smp_900090  159155.732267        4.304425  0.436310  9.865518   \n",
       "gene:Smp_900100    5753.668599        1.824721  0.937269  1.946848   \n",
       "gene:Smp_900110  114952.325564        3.702547  0.455812  8.122969   \n",
       "\n",
       "                       pvalue          padj  \n",
       "gene                                         \n",
       "gene:Smp_000020  1.874205e-01  2.439020e-01  \n",
       "gene:Smp_000030  1.590481e-08  4.838303e-08  \n",
       "gene:Smp_000040  7.190276e-06  1.711393e-05  \n",
       "gene:Smp_000050  2.251895e-10  7.984448e-10  \n",
       "gene:Smp_000070  4.268094e-03  7.386997e-03  \n",
       "...                       ...           ...  \n",
       "gene:Smp_900070  5.042215e-12  2.021966e-11  \n",
       "gene:Smp_900080  1.092963e-19  7.229905e-19  \n",
       "gene:Smp_900090  5.873074e-23  4.682771e-22  \n",
       "gene:Smp_900100  5.155293e-02  7.570078e-02  \n",
       "gene:Smp_900110  4.549167e-16  2.394140e-15  \n",
       "\n",
       "[9896 rows x 6 columns]"
      ]
     },
     "execution_count": 7,
     "metadata": {},
     "output_type": "execute_result"
    }
   ],
   "source": [
    "res = stat_res.results_df\n",
    "res"
   ]
  },
  {
   "cell_type": "markdown",
   "id": "3bc6c990-208b-4c4d-8a26-f924e8564eff",
   "metadata": {},
   "source": [
    "<div class=\"alert alert-block alert-success\">\n",
    "<b>Learning outcomes</b>\n",
    "\n",
    "You should now...\n",
    "\n",
    "- Know how to perform differential expression analysis using PyDESeq2\n",
    "- Understand the results produced by PyDESeq2"
   ]
  },
  {
   "cell_type": "markdown",
   "id": "0765b388-3c8f-4369-85b8-27345b87acf9",
   "metadata": {},
   "source": [
    "# Cleaning and exploring the results\n",
    "\n",
    "There are a couple of things we should check in our results dataframe"
   ]
  },
  {
   "cell_type": "markdown",
   "id": "42f64cab-a2ff-4009-8aed-873c8ff2031f",
   "metadata": {},
   "source": [
    "<div class=\"alert alert-block alert-warning\">\n",
    "\n",
    "Find out the smallest padj value in the dataframe res. We practised this in notebook 1"
   ]
  },
  {
   "cell_type": "code",
   "execution_count": null,
   "id": "b3a3875d-585f-4f3f-bf31-8bf47e5ff281",
   "metadata": {},
   "outputs": [],
   "source": [
    "# Find out the minimum padj value"
   ]
  },
  {
   "cell_type": "code",
   "execution_count": 8,
   "id": "b4ea1c4f-f9fb-44b0-95cb-68d09b528d15",
   "metadata": {},
   "outputs": [
    {
     "data": {
      "text/plain": [
       "0.0"
      ]
     },
     "execution_count": 8,
     "metadata": {},
     "output_type": "execute_result"
    }
   ],
   "source": [
    "# Find out the minimum padj value\n",
    "res[\"padj\"].min()"
   ]
  },
  {
   "cell_type": "markdown",
   "id": "8d4d88d0-258a-4508-ab71-872066b251fc",
   "metadata": {},
   "source": [
    " <div class=\"alert alert-block alert-warning\">\n",
    "     \n",
    "Discuss in your groups whether having padj=0.0 sounds right"
   ]
  },
  {
   "cell_type": "markdown",
   "id": "fce401aa-7d02-4dbb-8a3b-f7fe35e79076",
   "metadata": {},
   "source": [
    "You can add some notes from your discussion on this text cell\n",
    "\n",
    "\\\n",
    "\n",
    "\\\n",
    "\n",
    "\\"
   ]
  },
  {
   "cell_type": "markdown",
   "id": "5e857140-440b-4c82-9c1f-c314fbcfbf5c",
   "metadata": {},
   "source": [
    "We have to replace those 0.0 values with a very small number, so they do not cause errors later on."
   ]
  },
  {
   "cell_type": "code",
   "execution_count": 9,
   "id": "7bb263cb",
   "metadata": {},
   "outputs": [],
   "source": [
    "import numpy as np\n",
    "\n",
    "# replace p-values of 0 with a very small number\n",
    "res.loc[ res.pvalue == 0, \"pvalue\" ] = np.finfo(np.float64).tiny\n",
    "res.loc[ res.padj == 0, \"padj\" ] = np.finfo(np.float64).tiny"
   ]
  },
  {
   "cell_type": "markdown",
   "id": "0b16e785-e0e7-437e-a648-8af43ca76327",
   "metadata": {},
   "source": [
    "In the code above:\n",
    "\n",
    "- `.loc` is a pandas attribute used to access a group of rows and columns\n",
    "- `res.pvalue == 0` is a boolean condition checking where the value in the column \"pvalue\" of the dataframe \"res\" is exactly zero\n",
    "- `\"pvalue\"` indicates which column will be modified when the boolean condition is met. In other words, the code will target the \"pvalue\" column where its values are zero\n",
    "- `np.finfo(np.float64)` finds the machine limits for the numpy data type float64 (decimal numbers)\n",
    "- `.tiny` is an attribute of the limits obtained from np.finfo(np.float64) that provides the smallest positive float64 number that the system can handle"
   ]
  },
  {
   "cell_type": "markdown",
   "id": "becc557e-8835-4037-b87b-c24baa5c0a4b",
   "metadata": {},
   "source": [
    " <div class=\"alert alert-block alert-warning\">\n",
    "Let's find the smallest padj in our dataframe again to see that it has worked."
   ]
  },
  {
   "cell_type": "code",
   "execution_count": null,
   "id": "ea9ab23b-c7ed-427f-9fd0-b11f5a2686e4",
   "metadata": {},
   "outputs": [],
   "source": [
    "# Add the code here"
   ]
  },
  {
   "cell_type": "code",
   "execution_count": 10,
   "id": "cdb8814f-412d-4b2a-83d2-c2b49d8d278d",
   "metadata": {},
   "outputs": [
    {
     "data": {
      "text/plain": [
       "2.2250738585072014e-308"
      ]
     },
     "execution_count": 10,
     "metadata": {},
     "output_type": "execute_result"
    }
   ],
   "source": [
    "# Add the code here\n",
    "res[\"padj\"].min()"
   ]
  },
  {
   "cell_type": "markdown",
   "id": "f70eb825-39ae-4a24-8fce-448411f5ce50",
   "metadata": {},
   "source": [
    "Now that we got rid of the 0 values, let's save the dataframe in csv format in case we want to use it outside noteable"
   ]
  },
  {
   "cell_type": "code",
   "execution_count": 11,
   "id": "2799b9e2-d99b-43da-a9af-173aacf71680",
   "metadata": {},
   "outputs": [],
   "source": [
    "# save to csv file\n",
    "res.to_csv(f\"analysis/Schistosoma_mansoni/cercarium_vs_24h_schistosomulum.full.csv\")"
   ]
  },
  {
   "cell_type": "markdown",
   "id": "052051f5",
   "metadata": {},
   "source": [
    "Let's have a look at the minimum baseMean in our results."
   ]
  },
  {
   "cell_type": "code",
   "execution_count": 12,
   "id": "57fedaa5-aa13-4226-924a-3be2783df633",
   "metadata": {},
   "outputs": [
    {
     "data": {
      "text/plain": [
       "0.0"
      ]
     },
     "execution_count": 12,
     "metadata": {},
     "output_type": "execute_result"
    }
   ],
   "source": [
    "res[\"baseMean\"].min()"
   ]
  },
  {
   "cell_type": "markdown",
   "id": "aa44c080-7d57-4507-a321-b2302fd8bf76",
   "metadata": {},
   "source": [
    " <div class=\"alert alert-block alert-warning\">\n",
    "     \n",
    "Discuss in your groups whether having baseMean=0.0 sounds right."
   ]
  },
  {
   "cell_type": "markdown",
   "id": "433ae14f-4c6e-4f75-8276-19a8c9ea40f8",
   "metadata": {},
   "source": [
    "You can add some notes from your discussion on this text cell\n",
    "\n",
    "\\\n",
    "\n",
    "\\\n",
    "\n",
    "\\"
   ]
  },
  {
   "cell_type": "markdown",
   "id": "a531563f-d581-4b6d-94fd-a191a9a9ada3",
   "metadata": {},
   "source": [
    "The results for a gene that is very lowly expressed will probably not be very reliable, or very informative of a biological function. They might also make further visualisation skewed. To avoid this, we will remove genes with very low expression. A common (although arbitrary) threshold for this is a baseMean of 10."
   ]
  },
  {
   "cell_type": "markdown",
   "id": "88556c89-0225-4ffb-9275-5b794127de88",
   "metadata": {},
   "source": [
    "<div class=\"alert alert-block alert-warning\">\n",
    "\n",
    "Fill in the gaps in the code below to remove results with baseMean<10 from the res dataframe. You practised how to do this in DExB2 class 8. "
   ]
  },
  {
   "cell_type": "code",
   "execution_count": null,
   "id": "4f8d1639",
   "metadata": {},
   "outputs": [],
   "source": [
    "# Filter results with baseMean<10\n",
    "res=res[...]\n",
    "res"
   ]
  },
  {
   "cell_type": "code",
   "execution_count": 13,
   "id": "0d644afa-d7e8-47ab-b953-47451b56f83d",
   "metadata": {},
   "outputs": [
    {
     "data": {
      "text/html": [
       "<div>\n",
       "<style scoped>\n",
       "    .dataframe tbody tr th:only-of-type {\n",
       "        vertical-align: middle;\n",
       "    }\n",
       "\n",
       "    .dataframe tbody tr th {\n",
       "        vertical-align: top;\n",
       "    }\n",
       "\n",
       "    .dataframe thead th {\n",
       "        text-align: right;\n",
       "    }\n",
       "</style>\n",
       "<table border=\"1\" class=\"dataframe\">\n",
       "  <thead>\n",
       "    <tr style=\"text-align: right;\">\n",
       "      <th></th>\n",
       "      <th>baseMean</th>\n",
       "      <th>log2FoldChange</th>\n",
       "      <th>lfcSE</th>\n",
       "      <th>stat</th>\n",
       "      <th>pvalue</th>\n",
       "      <th>padj</th>\n",
       "    </tr>\n",
       "    <tr>\n",
       "      <th>gene</th>\n",
       "      <th></th>\n",
       "      <th></th>\n",
       "      <th></th>\n",
       "      <th></th>\n",
       "      <th></th>\n",
       "      <th></th>\n",
       "    </tr>\n",
       "  </thead>\n",
       "  <tbody>\n",
       "    <tr>\n",
       "      <th>gene:Smp_000020</th>\n",
       "      <td>4894.181166</td>\n",
       "      <td>0.220494</td>\n",
       "      <td>0.167263</td>\n",
       "      <td>1.318248</td>\n",
       "      <td>1.874205e-01</td>\n",
       "      <td>2.439020e-01</td>\n",
       "    </tr>\n",
       "    <tr>\n",
       "      <th>gene:Smp_000030</th>\n",
       "      <td>18780.967017</td>\n",
       "      <td>0.640823</td>\n",
       "      <td>0.113390</td>\n",
       "      <td>5.651506</td>\n",
       "      <td>1.590481e-08</td>\n",
       "      <td>4.838303e-08</td>\n",
       "    </tr>\n",
       "    <tr>\n",
       "      <th>gene:Smp_000040</th>\n",
       "      <td>5663.668190</td>\n",
       "      <td>-0.609066</td>\n",
       "      <td>0.135711</td>\n",
       "      <td>-4.487977</td>\n",
       "      <td>7.190276e-06</td>\n",
       "      <td>1.711393e-05</td>\n",
       "    </tr>\n",
       "    <tr>\n",
       "      <th>gene:Smp_000050</th>\n",
       "      <td>2824.491025</td>\n",
       "      <td>-1.787652</td>\n",
       "      <td>0.281826</td>\n",
       "      <td>-6.343098</td>\n",
       "      <td>2.251895e-10</td>\n",
       "      <td>7.984448e-10</td>\n",
       "    </tr>\n",
       "    <tr>\n",
       "      <th>gene:Smp_000070</th>\n",
       "      <td>1794.569198</td>\n",
       "      <td>0.465374</td>\n",
       "      <td>0.162853</td>\n",
       "      <td>2.857636</td>\n",
       "      <td>4.268094e-03</td>\n",
       "      <td>7.386997e-03</td>\n",
       "    </tr>\n",
       "    <tr>\n",
       "      <th>...</th>\n",
       "      <td>...</td>\n",
       "      <td>...</td>\n",
       "      <td>...</td>\n",
       "      <td>...</td>\n",
       "      <td>...</td>\n",
       "      <td>...</td>\n",
       "    </tr>\n",
       "    <tr>\n",
       "      <th>gene:Smp_900070</th>\n",
       "      <td>41334.608763</td>\n",
       "      <td>2.999898</td>\n",
       "      <td>0.434492</td>\n",
       "      <td>6.904383</td>\n",
       "      <td>5.042215e-12</td>\n",
       "      <td>2.021966e-11</td>\n",
       "    </tr>\n",
       "    <tr>\n",
       "      <th>gene:Smp_900080</th>\n",
       "      <td>6394.476687</td>\n",
       "      <td>3.246539</td>\n",
       "      <td>0.357577</td>\n",
       "      <td>9.079279</td>\n",
       "      <td>1.092963e-19</td>\n",
       "      <td>7.229905e-19</td>\n",
       "    </tr>\n",
       "    <tr>\n",
       "      <th>gene:Smp_900090</th>\n",
       "      <td>159155.732267</td>\n",
       "      <td>4.304425</td>\n",
       "      <td>0.436310</td>\n",
       "      <td>9.865518</td>\n",
       "      <td>5.873074e-23</td>\n",
       "      <td>4.682771e-22</td>\n",
       "    </tr>\n",
       "    <tr>\n",
       "      <th>gene:Smp_900100</th>\n",
       "      <td>5753.668599</td>\n",
       "      <td>1.824721</td>\n",
       "      <td>0.937269</td>\n",
       "      <td>1.946848</td>\n",
       "      <td>5.155293e-02</td>\n",
       "      <td>7.570078e-02</td>\n",
       "    </tr>\n",
       "    <tr>\n",
       "      <th>gene:Smp_900110</th>\n",
       "      <td>114952.325564</td>\n",
       "      <td>3.702547</td>\n",
       "      <td>0.455812</td>\n",
       "      <td>8.122969</td>\n",
       "      <td>4.549167e-16</td>\n",
       "      <td>2.394140e-15</td>\n",
       "    </tr>\n",
       "  </tbody>\n",
       "</table>\n",
       "<p>8555 rows × 6 columns</p>\n",
       "</div>"
      ],
      "text/plain": [
       "                      baseMean  log2FoldChange     lfcSE      stat  \\\n",
       "gene                                                                 \n",
       "gene:Smp_000020    4894.181166        0.220494  0.167263  1.318248   \n",
       "gene:Smp_000030   18780.967017        0.640823  0.113390  5.651506   \n",
       "gene:Smp_000040    5663.668190       -0.609066  0.135711 -4.487977   \n",
       "gene:Smp_000050    2824.491025       -1.787652  0.281826 -6.343098   \n",
       "gene:Smp_000070    1794.569198        0.465374  0.162853  2.857636   \n",
       "...                        ...             ...       ...       ...   \n",
       "gene:Smp_900070   41334.608763        2.999898  0.434492  6.904383   \n",
       "gene:Smp_900080    6394.476687        3.246539  0.357577  9.079279   \n",
       "gene:Smp_900090  159155.732267        4.304425  0.436310  9.865518   \n",
       "gene:Smp_900100    5753.668599        1.824721  0.937269  1.946848   \n",
       "gene:Smp_900110  114952.325564        3.702547  0.455812  8.122969   \n",
       "\n",
       "                       pvalue          padj  \n",
       "gene                                         \n",
       "gene:Smp_000020  1.874205e-01  2.439020e-01  \n",
       "gene:Smp_000030  1.590481e-08  4.838303e-08  \n",
       "gene:Smp_000040  7.190276e-06  1.711393e-05  \n",
       "gene:Smp_000050  2.251895e-10  7.984448e-10  \n",
       "gene:Smp_000070  4.268094e-03  7.386997e-03  \n",
       "...                       ...           ...  \n",
       "gene:Smp_900070  5.042215e-12  2.021966e-11  \n",
       "gene:Smp_900080  1.092963e-19  7.229905e-19  \n",
       "gene:Smp_900090  5.873074e-23  4.682771e-22  \n",
       "gene:Smp_900100  5.155293e-02  7.570078e-02  \n",
       "gene:Smp_900110  4.549167e-16  2.394140e-15  \n",
       "\n",
       "[8555 rows x 6 columns]"
      ]
     },
     "execution_count": 13,
     "metadata": {},
     "output_type": "execute_result"
    }
   ],
   "source": [
    "# Filter results with baseMean<10\n",
    "res=res[res.baseMean>=10]\n",
    "res"
   ]
  },
  {
   "cell_type": "markdown",
   "id": "3c633966-dbc2-4200-86ff-52a9f61b2863",
   "metadata": {},
   "source": [
    "Let's start exploring the results"
   ]
  },
  {
   "cell_type": "markdown",
   "id": "4cac8f5f-e0b5-4a63-ae41-676309b9ff8d",
   "metadata": {},
   "source": [
    "<div class=\"alert alert-block alert-warning\">\n",
    "\n",
    "Find out and discuss in your group:\n",
    "\n",
    "- How many genes are significantly differentially expressed?\n",
    "- For how many of these significant genes is the fold change (FC) greater than 2 or less than 0.5? Store them in a new dataframe called \"sigs\", and save it as a csv file called \"cercarium_vs_24h_schistosomulum.filtered\""
   ]
  },
  {
   "cell_type": "code",
   "execution_count": null,
   "id": "ba5d3e24-9a23-4472-b6ca-75d0f66f333c",
   "metadata": {},
   "outputs": [],
   "source": [
    "#Find out how many genes are significantly differentially expressed\n"
   ]
  },
  {
   "cell_type": "code",
   "execution_count": null,
   "id": "9572275c-aff1-4012-b3b6-89b482a95e3d",
   "metadata": {},
   "outputs": [],
   "source": [
    "# Get a list of only those genes that have a fold change FC > 2 or FC < 0.5 and are significantly changed\n"
   ]
  },
  {
   "cell_type": "code",
   "execution_count": null,
   "id": "19c4a628-2dde-4f7a-b692-07721d06b22c",
   "metadata": {},
   "outputs": [],
   "source": [
    "# save it as a csv file\n"
   ]
  },
  {
   "cell_type": "code",
   "execution_count": 14,
   "id": "138a620f-76c5-467e-a53a-9b022aed02aa",
   "metadata": {},
   "outputs": [
    {
     "data": {
      "text/plain": [
       "6193"
      ]
     },
     "execution_count": 14,
     "metadata": {},
     "output_type": "execute_result"
    }
   ],
   "source": [
    "#Find out how many genes are significantly differentially expressed\n",
    "sum(res.padj<0.05)"
   ]
  },
  {
   "cell_type": "code",
   "execution_count": 15,
   "id": "0ec6fd25-a423-4dfb-bffb-02b384ef3eaa",
   "metadata": {},
   "outputs": [
    {
     "data": {
      "text/html": [
       "<div>\n",
       "<style scoped>\n",
       "    .dataframe tbody tr th:only-of-type {\n",
       "        vertical-align: middle;\n",
       "    }\n",
       "\n",
       "    .dataframe tbody tr th {\n",
       "        vertical-align: top;\n",
       "    }\n",
       "\n",
       "    .dataframe thead th {\n",
       "        text-align: right;\n",
       "    }\n",
       "</style>\n",
       "<table border=\"1\" class=\"dataframe\">\n",
       "  <thead>\n",
       "    <tr style=\"text-align: right;\">\n",
       "      <th></th>\n",
       "      <th>baseMean</th>\n",
       "      <th>log2FoldChange</th>\n",
       "      <th>lfcSE</th>\n",
       "      <th>stat</th>\n",
       "      <th>pvalue</th>\n",
       "      <th>padj</th>\n",
       "    </tr>\n",
       "    <tr>\n",
       "      <th>gene</th>\n",
       "      <th></th>\n",
       "      <th></th>\n",
       "      <th></th>\n",
       "      <th></th>\n",
       "      <th></th>\n",
       "      <th></th>\n",
       "    </tr>\n",
       "  </thead>\n",
       "  <tbody>\n",
       "    <tr>\n",
       "      <th>gene:Smp_000050</th>\n",
       "      <td>2824.491025</td>\n",
       "      <td>-1.787652</td>\n",
       "      <td>0.281826</td>\n",
       "      <td>-6.343098</td>\n",
       "      <td>2.251895e-10</td>\n",
       "      <td>7.984448e-10</td>\n",
       "    </tr>\n",
       "    <tr>\n",
       "      <th>gene:Smp_000080</th>\n",
       "      <td>12.055362</td>\n",
       "      <td>-1.996810</td>\n",
       "      <td>0.907545</td>\n",
       "      <td>-2.200231</td>\n",
       "      <td>2.779048e-02</td>\n",
       "      <td>4.268445e-02</td>\n",
       "    </tr>\n",
       "    <tr>\n",
       "      <th>gene:Smp_000100</th>\n",
       "      <td>26042.364286</td>\n",
       "      <td>2.741560</td>\n",
       "      <td>0.086656</td>\n",
       "      <td>31.637303</td>\n",
       "      <td>1.133753e-219</td>\n",
       "      <td>1.082960e-216</td>\n",
       "    </tr>\n",
       "    <tr>\n",
       "      <th>gene:Smp_000150</th>\n",
       "      <td>5933.919227</td>\n",
       "      <td>1.861954</td>\n",
       "      <td>0.238959</td>\n",
       "      <td>7.791934</td>\n",
       "      <td>6.599140e-15</td>\n",
       "      <td>3.227598e-14</td>\n",
       "    </tr>\n",
       "    <tr>\n",
       "      <th>gene:Smp_000160</th>\n",
       "      <td>821.898894</td>\n",
       "      <td>-3.572021</td>\n",
       "      <td>0.229266</td>\n",
       "      <td>-15.580266</td>\n",
       "      <td>9.914077e-55</td>\n",
       "      <td>3.322781e-53</td>\n",
       "    </tr>\n",
       "    <tr>\n",
       "      <th>...</th>\n",
       "      <td>...</td>\n",
       "      <td>...</td>\n",
       "      <td>...</td>\n",
       "      <td>...</td>\n",
       "      <td>...</td>\n",
       "      <td>...</td>\n",
       "    </tr>\n",
       "    <tr>\n",
       "      <th>gene:Smp_900060</th>\n",
       "      <td>16889.104818</td>\n",
       "      <td>2.434262</td>\n",
       "      <td>0.781077</td>\n",
       "      <td>3.116543</td>\n",
       "      <td>1.829848e-03</td>\n",
       "      <td>3.337542e-03</td>\n",
       "    </tr>\n",
       "    <tr>\n",
       "      <th>gene:Smp_900070</th>\n",
       "      <td>41334.608763</td>\n",
       "      <td>2.999898</td>\n",
       "      <td>0.434492</td>\n",
       "      <td>6.904383</td>\n",
       "      <td>5.042215e-12</td>\n",
       "      <td>2.021966e-11</td>\n",
       "    </tr>\n",
       "    <tr>\n",
       "      <th>gene:Smp_900080</th>\n",
       "      <td>6394.476687</td>\n",
       "      <td>3.246539</td>\n",
       "      <td>0.357577</td>\n",
       "      <td>9.079279</td>\n",
       "      <td>1.092963e-19</td>\n",
       "      <td>7.229905e-19</td>\n",
       "    </tr>\n",
       "    <tr>\n",
       "      <th>gene:Smp_900090</th>\n",
       "      <td>159155.732267</td>\n",
       "      <td>4.304425</td>\n",
       "      <td>0.436310</td>\n",
       "      <td>9.865518</td>\n",
       "      <td>5.873074e-23</td>\n",
       "      <td>4.682771e-22</td>\n",
       "    </tr>\n",
       "    <tr>\n",
       "      <th>gene:Smp_900110</th>\n",
       "      <td>114952.325564</td>\n",
       "      <td>3.702547</td>\n",
       "      <td>0.455812</td>\n",
       "      <td>8.122969</td>\n",
       "      <td>4.549167e-16</td>\n",
       "      <td>2.394140e-15</td>\n",
       "    </tr>\n",
       "  </tbody>\n",
       "</table>\n",
       "<p>3820 rows × 6 columns</p>\n",
       "</div>"
      ],
      "text/plain": [
       "                      baseMean  log2FoldChange     lfcSE       stat  \\\n",
       "gene                                                                  \n",
       "gene:Smp_000050    2824.491025       -1.787652  0.281826  -6.343098   \n",
       "gene:Smp_000080      12.055362       -1.996810  0.907545  -2.200231   \n",
       "gene:Smp_000100   26042.364286        2.741560  0.086656  31.637303   \n",
       "gene:Smp_000150    5933.919227        1.861954  0.238959   7.791934   \n",
       "gene:Smp_000160     821.898894       -3.572021  0.229266 -15.580266   \n",
       "...                        ...             ...       ...        ...   \n",
       "gene:Smp_900060   16889.104818        2.434262  0.781077   3.116543   \n",
       "gene:Smp_900070   41334.608763        2.999898  0.434492   6.904383   \n",
       "gene:Smp_900080    6394.476687        3.246539  0.357577   9.079279   \n",
       "gene:Smp_900090  159155.732267        4.304425  0.436310   9.865518   \n",
       "gene:Smp_900110  114952.325564        3.702547  0.455812   8.122969   \n",
       "\n",
       "                        pvalue           padj  \n",
       "gene                                           \n",
       "gene:Smp_000050   2.251895e-10   7.984448e-10  \n",
       "gene:Smp_000080   2.779048e-02   4.268445e-02  \n",
       "gene:Smp_000100  1.133753e-219  1.082960e-216  \n",
       "gene:Smp_000150   6.599140e-15   3.227598e-14  \n",
       "gene:Smp_000160   9.914077e-55   3.322781e-53  \n",
       "...                        ...            ...  \n",
       "gene:Smp_900060   1.829848e-03   3.337542e-03  \n",
       "gene:Smp_900070   5.042215e-12   2.021966e-11  \n",
       "gene:Smp_900080   1.092963e-19   7.229905e-19  \n",
       "gene:Smp_900090   5.873074e-23   4.682771e-22  \n",
       "gene:Smp_900110   4.549167e-16   2.394140e-15  \n",
       "\n",
       "[3820 rows x 6 columns]"
      ]
     },
     "execution_count": 15,
     "metadata": {},
     "output_type": "execute_result"
    }
   ],
   "source": [
    "# Get a list of only those genes that have a fold change FC > 2 or FC < 0.5 and are significantly changed\n",
    "sigs=res[(res.padj<0.05)&(abs(res.log2FoldChange)>1)]\n",
    "sigs"
   ]
  },
  {
   "cell_type": "code",
   "execution_count": 16,
   "id": "1922b4ea-716d-4053-99e3-e895a899cc8b",
   "metadata": {},
   "outputs": [],
   "source": [
    "# save it as a csv file\n",
    "sigs.to_csv(f\"analysis/Schistosoma_mansoni/cercarium_vs_24h_schistosomulum.filtered.csv\")"
   ]
  },
  {
   "cell_type": "markdown",
   "id": "b679204f-c05e-43e6-b115-1526e8d6adda",
   "metadata": {},
   "source": [
    "<div class=\"alert alert-block alert-success\">\n",
    "<b>Learning outcomes</b>\n",
    "\n",
    "You should now...\n",
    "\n",
    "- Understand what to look for when cleaning differential expression analysis results\n",
    "- Know how to explore and filter the results"
   ]
  },
  {
   "cell_type": "markdown",
   "id": "e23bffee",
   "metadata": {},
   "source": [
    "# Visualisation"
   ]
  },
  {
   "cell_type": "markdown",
   "id": "b94f4778",
   "metadata": {},
   "source": [
    "<figure>\n",
    "    <img src=\"https://scienceparkstudygroup.github.io/rna-seq-lesson/img/volcano_plot.png\" align=\"right\" width=\"400\">\n",
    "</figure>\n",
    "\n",
    "A common way to visualise differential expression analysis results is a volcano plot.\n",
    "The advantage of this plot is that we can see at the same time the change in gene expression and the statistical significance of that change, for each gene. That makes it easy to identify genes for further analysis.\n",
    "As shown in the figure on the right (taken from [this source](https://scienceparkstudygroup.github.io/rna-seq-lesson/06-differential-analysis/index.html#3-volcano-plot)), in a typical volvano plot:\n",
    "* on the X axis we plot the log2 fold change in gene expression\n",
    "* on the Y axis we plot the -log10 p-value. Why log10? \n",
    "\n",
    "    (a) The p-value is transformed into log10 to help with visualisation, in the same way that the fold change in gene expression was calculated as log2 by PyDESeq2. \n",
    "\n",
    "    (b) If you remember previous stats lessons, p-values are a probability, and therefore are always between 0 and 1. The log10 of a number between 0 and 1 will always be negative. To make interpretation easier, we do \"-\"log10, so the result is always a positive number. For example: log10(0.5)=-0.301 ; -[log10(0.5)]=-[-0.301]=0.301."
   ]
  },
  {
   "cell_type": "markdown",
   "id": "7e3f82a3",
   "metadata": {},
   "source": [
    "Let's plot our results in a volcano plot. To do that, we will use matplotlib, which we import as \"plt\"\n",
    "\n",
    "You used matplotlib in DExB2, for example in classes 5 and 6. If you need a quick refresher, have a look [here](https://matplotlib.org/stable/users/explain/quick_start.html)"
   ]
  },
  {
   "cell_type": "code",
   "execution_count": 17,
   "id": "a2570edc-aae7-4680-9d81-d9d6687fb3a6",
   "metadata": {},
   "outputs": [],
   "source": [
    "import matplotlib.pylab as plt"
   ]
  },
  {
   "cell_type": "markdown",
   "id": "7f051e3e",
   "metadata": {},
   "source": [
    "<div class=\"alert alert-block alert-warning\">\n",
    "\n",
    "Using matplotlib (plt), make a scatter plot that: \n",
    "* in the X axis plots the log2FoldChange values from the \"res\" dataframe \n",
    "* in the Y axis plots -log10 of the padj values from the \"res\" dataframe"
   ]
  },
  {
   "cell_type": "code",
   "execution_count": null,
   "id": "c25aca93-a3e1-4a50-8887-13d074ae8c4c",
   "metadata": {},
   "outputs": [],
   "source": [
    "# First, create a new column in the dataframe res that contains the -log10(padj). \n"
   ]
  },
  {
   "cell_type": "code",
   "execution_count": 18,
   "id": "84a3cda8-4156-45c4-9bd0-f80890ac15a9",
   "metadata": {},
   "outputs": [
    {
     "name": "stderr",
     "output_type": "stream",
     "text": [
      "/tmp/ipykernel_142/3526454042.py:2: SettingWithCopyWarning: \n",
      "A value is trying to be set on a copy of a slice from a DataFrame.\n",
      "Try using .loc[row_indexer,col_indexer] = value instead\n",
      "\n",
      "See the caveats in the documentation: https://pandas.pydata.org/pandas-docs/stable/user_guide/indexing.html#returning-a-view-versus-a-copy\n",
      "  res['-log10 padj']=-np.log10(res['padj'])\n"
     ]
    },
    {
     "data": {
      "text/html": [
       "<div>\n",
       "<style scoped>\n",
       "    .dataframe tbody tr th:only-of-type {\n",
       "        vertical-align: middle;\n",
       "    }\n",
       "\n",
       "    .dataframe tbody tr th {\n",
       "        vertical-align: top;\n",
       "    }\n",
       "\n",
       "    .dataframe thead th {\n",
       "        text-align: right;\n",
       "    }\n",
       "</style>\n",
       "<table border=\"1\" class=\"dataframe\">\n",
       "  <thead>\n",
       "    <tr style=\"text-align: right;\">\n",
       "      <th></th>\n",
       "      <th>baseMean</th>\n",
       "      <th>log2FoldChange</th>\n",
       "      <th>lfcSE</th>\n",
       "      <th>stat</th>\n",
       "      <th>pvalue</th>\n",
       "      <th>padj</th>\n",
       "      <th>-log10 padj</th>\n",
       "    </tr>\n",
       "    <tr>\n",
       "      <th>gene</th>\n",
       "      <th></th>\n",
       "      <th></th>\n",
       "      <th></th>\n",
       "      <th></th>\n",
       "      <th></th>\n",
       "      <th></th>\n",
       "      <th></th>\n",
       "    </tr>\n",
       "  </thead>\n",
       "  <tbody>\n",
       "    <tr>\n",
       "      <th>gene:Smp_000020</th>\n",
       "      <td>4894.181166</td>\n",
       "      <td>0.220494</td>\n",
       "      <td>0.167263</td>\n",
       "      <td>1.318248</td>\n",
       "      <td>1.874205e-01</td>\n",
       "      <td>2.439020e-01</td>\n",
       "      <td>0.612785</td>\n",
       "    </tr>\n",
       "    <tr>\n",
       "      <th>gene:Smp_000030</th>\n",
       "      <td>18780.967017</td>\n",
       "      <td>0.640823</td>\n",
       "      <td>0.113390</td>\n",
       "      <td>5.651506</td>\n",
       "      <td>1.590481e-08</td>\n",
       "      <td>4.838303e-08</td>\n",
       "      <td>7.315307</td>\n",
       "    </tr>\n",
       "    <tr>\n",
       "      <th>gene:Smp_000040</th>\n",
       "      <td>5663.668190</td>\n",
       "      <td>-0.609066</td>\n",
       "      <td>0.135711</td>\n",
       "      <td>-4.487977</td>\n",
       "      <td>7.190276e-06</td>\n",
       "      <td>1.711393e-05</td>\n",
       "      <td>4.766650</td>\n",
       "    </tr>\n",
       "    <tr>\n",
       "      <th>gene:Smp_000050</th>\n",
       "      <td>2824.491025</td>\n",
       "      <td>-1.787652</td>\n",
       "      <td>0.281826</td>\n",
       "      <td>-6.343098</td>\n",
       "      <td>2.251895e-10</td>\n",
       "      <td>7.984448e-10</td>\n",
       "      <td>9.097755</td>\n",
       "    </tr>\n",
       "    <tr>\n",
       "      <th>gene:Smp_000070</th>\n",
       "      <td>1794.569198</td>\n",
       "      <td>0.465374</td>\n",
       "      <td>0.162853</td>\n",
       "      <td>2.857636</td>\n",
       "      <td>4.268094e-03</td>\n",
       "      <td>7.386997e-03</td>\n",
       "      <td>2.131532</td>\n",
       "    </tr>\n",
       "    <tr>\n",
       "      <th>...</th>\n",
       "      <td>...</td>\n",
       "      <td>...</td>\n",
       "      <td>...</td>\n",
       "      <td>...</td>\n",
       "      <td>...</td>\n",
       "      <td>...</td>\n",
       "      <td>...</td>\n",
       "    </tr>\n",
       "    <tr>\n",
       "      <th>gene:Smp_900070</th>\n",
       "      <td>41334.608763</td>\n",
       "      <td>2.999898</td>\n",
       "      <td>0.434492</td>\n",
       "      <td>6.904383</td>\n",
       "      <td>5.042215e-12</td>\n",
       "      <td>2.021966e-11</td>\n",
       "      <td>10.694226</td>\n",
       "    </tr>\n",
       "    <tr>\n",
       "      <th>gene:Smp_900080</th>\n",
       "      <td>6394.476687</td>\n",
       "      <td>3.246539</td>\n",
       "      <td>0.357577</td>\n",
       "      <td>9.079279</td>\n",
       "      <td>1.092963e-19</td>\n",
       "      <td>7.229905e-19</td>\n",
       "      <td>18.140867</td>\n",
       "    </tr>\n",
       "    <tr>\n",
       "      <th>gene:Smp_900090</th>\n",
       "      <td>159155.732267</td>\n",
       "      <td>4.304425</td>\n",
       "      <td>0.436310</td>\n",
       "      <td>9.865518</td>\n",
       "      <td>5.873074e-23</td>\n",
       "      <td>4.682771e-22</td>\n",
       "      <td>21.329497</td>\n",
       "    </tr>\n",
       "    <tr>\n",
       "      <th>gene:Smp_900100</th>\n",
       "      <td>5753.668599</td>\n",
       "      <td>1.824721</td>\n",
       "      <td>0.937269</td>\n",
       "      <td>1.946848</td>\n",
       "      <td>5.155293e-02</td>\n",
       "      <td>7.570078e-02</td>\n",
       "      <td>1.120900</td>\n",
       "    </tr>\n",
       "    <tr>\n",
       "      <th>gene:Smp_900110</th>\n",
       "      <td>114952.325564</td>\n",
       "      <td>3.702547</td>\n",
       "      <td>0.455812</td>\n",
       "      <td>8.122969</td>\n",
       "      <td>4.549167e-16</td>\n",
       "      <td>2.394140e-15</td>\n",
       "      <td>14.620850</td>\n",
       "    </tr>\n",
       "  </tbody>\n",
       "</table>\n",
       "<p>8555 rows × 7 columns</p>\n",
       "</div>"
      ],
      "text/plain": [
       "                      baseMean  log2FoldChange     lfcSE      stat  \\\n",
       "gene                                                                 \n",
       "gene:Smp_000020    4894.181166        0.220494  0.167263  1.318248   \n",
       "gene:Smp_000030   18780.967017        0.640823  0.113390  5.651506   \n",
       "gene:Smp_000040    5663.668190       -0.609066  0.135711 -4.487977   \n",
       "gene:Smp_000050    2824.491025       -1.787652  0.281826 -6.343098   \n",
       "gene:Smp_000070    1794.569198        0.465374  0.162853  2.857636   \n",
       "...                        ...             ...       ...       ...   \n",
       "gene:Smp_900070   41334.608763        2.999898  0.434492  6.904383   \n",
       "gene:Smp_900080    6394.476687        3.246539  0.357577  9.079279   \n",
       "gene:Smp_900090  159155.732267        4.304425  0.436310  9.865518   \n",
       "gene:Smp_900100    5753.668599        1.824721  0.937269  1.946848   \n",
       "gene:Smp_900110  114952.325564        3.702547  0.455812  8.122969   \n",
       "\n",
       "                       pvalue          padj  -log10 padj  \n",
       "gene                                                      \n",
       "gene:Smp_000020  1.874205e-01  2.439020e-01     0.612785  \n",
       "gene:Smp_000030  1.590481e-08  4.838303e-08     7.315307  \n",
       "gene:Smp_000040  7.190276e-06  1.711393e-05     4.766650  \n",
       "gene:Smp_000050  2.251895e-10  7.984448e-10     9.097755  \n",
       "gene:Smp_000070  4.268094e-03  7.386997e-03     2.131532  \n",
       "...                       ...           ...          ...  \n",
       "gene:Smp_900070  5.042215e-12  2.021966e-11    10.694226  \n",
       "gene:Smp_900080  1.092963e-19  7.229905e-19    18.140867  \n",
       "gene:Smp_900090  5.873074e-23  4.682771e-22    21.329497  \n",
       "gene:Smp_900100  5.155293e-02  7.570078e-02     1.120900  \n",
       "gene:Smp_900110  4.549167e-16  2.394140e-15    14.620850  \n",
       "\n",
       "[8555 rows x 7 columns]"
      ]
     },
     "execution_count": 18,
     "metadata": {},
     "output_type": "execute_result"
    }
   ],
   "source": [
    "# First, create a new column in the dataframe res that contains the -log10(padj)\n",
    "res['-log10 padj']=-np.log10(res['padj'])\n",
    "res"
   ]
  },
  {
   "cell_type": "code",
   "execution_count": null,
   "id": "7963880f-a819-491e-beee-b011a0c3760a",
   "metadata": {},
   "outputs": [],
   "source": [
    "# Now, make the scatter plot using the code below\n",
    "plt.scatter(x=...,y=..., s=1)"
   ]
  },
  {
   "cell_type": "code",
   "execution_count": 19,
   "id": "1b988c77",
   "metadata": {},
   "outputs": [
    {
     "data": {
      "text/plain": [
       "<matplotlib.collections.PathCollection at 0x7fa66583c990>"
      ]
     },
     "execution_count": 19,
     "metadata": {},
     "output_type": "execute_result"
    },
    {
     "data": {
      "image/png": "[encoded data removed]",
      "text/plain": [
       "<Figure size 640x480 with 1 Axes>"
      ]
     },
     "metadata": {},
     "output_type": "display_data"
    }
   ],
   "source": [
    "# Now, make the scatter plot using the code below\n",
    "plt.scatter(x=res['log2FoldChange'],y=res['-log10 padj'], s=1)"
   ]
  },
  {
   "cell_type": "markdown",
   "id": "16576e6d",
   "metadata": {},
   "source": [
    "Let's make the volcano plot fancier by colouring dots depending on:\n",
    "* whether a gene is up- or downregulated -> We will consider that a gene is up- or downregulated if its expression level at least doubles or halves between the two conditions\n",
    "* whether the change is significant -> We will use padj<0.05"
   ]
  },
  {
   "cell_type": "markdown",
   "id": "7b927aee-6714-4ecf-afa6-141b0b2b6937",
   "metadata": {},
   "source": [
    "<div class=\"alert alert-block alert-warning\">\n",
    "\n",
    "Fill in the code below to colour the dots in the volcano plot"
   ]
  },
  {
   "cell_type": "code",
   "execution_count": null,
   "id": "c36d893c",
   "metadata": {},
   "outputs": [],
   "source": [
    "# define which parameters determine if a gene is significantly up or down\n",
    "down = res[(res['...']<=...)&(res['...']<...)]\n",
    "up = res[(res['...']>=...)&(res['...']<...)]\n",
    "\n",
    "# plot all the genes and label as non-significant\n",
    "plt.scatter(x=...,y=..., s=1, label=\"Not significant\")\n",
    "# colour downregulated genes in blue\n",
    "plt.scatter(x=...,y=...,s=1,label=\"Down-regulated\",color=\"blue\")\n",
    "# colour upregulated genes in red\n",
    "plt.scatter(x=...,y=...,s=1,label=\"Up-regulated\",color=\"red\")"
   ]
  },
  {
   "cell_type": "code",
   "execution_count": 20,
   "id": "6781d90c-8a12-4a02-941e-8c96922a3fb4",
   "metadata": {},
   "outputs": [
    {
     "data": {
      "text/plain": [
       "<matplotlib.collections.PathCollection at 0x7fa6650d3490>"
      ]
     },
     "execution_count": 20,
     "metadata": {},
     "output_type": "execute_result"
    },
    {
     "data": {
      "image/png": "[encoded data removed]",
      "text/plain": [
       "<Figure size 640x480 with 1 Axes>"
      ]
     },
     "metadata": {},
     "output_type": "display_data"
    }
   ],
   "source": [
    "# define which parameters determine if a gene is significantly up or down\n",
    "down = res[(res['log2FoldChange']<=-1)&(res['padj']<0.05)]\n",
    "up = res[(res['log2FoldChange']>=1)&(res['padj']<0.05)]\n",
    "\n",
    "# plot all the genes and label as non-significant\n",
    "plt.scatter(x=res['log2FoldChange'],y=res['-log10 padj'],s=1,label=\"Not significant\")\n",
    "# colour downregulated genes in blue\n",
    "plt.scatter(x=down['log2FoldChange'],y=down['-log10 padj'],s=1,label=\"Down-regulated\",color=\"blue\")\n",
    "# colour upregulated genes in red\n",
    "plt.scatter(x=up['log2FoldChange'],y=up['-log10 padj'],s=1,label=\"Up-regulated\",color=\"red\")"
   ]
  },
  {
   "cell_type": "markdown",
   "id": "1b408d21",
   "metadata": {},
   "source": [
    "<div class=\"alert alert-block alert-warning\">\n",
    "\n",
    "Complete the code below to improve the volcano plot further by adding:\n",
    "\n",
    "* axes labels\n",
    "* lines at the threshold values\n",
    "* legend\n",
    "\n",
    "And save it as a png image so you can use it later"
   ]
  },
  {
   "cell_type": "code",
   "execution_count": null,
   "id": "55f534db-0e92-46a5-a2f4-edfb52c43d25",
   "metadata": {},
   "outputs": [],
   "source": [
    "# define which parameters determine if a gene is significantly up or down\n",
    "\n",
    "\n",
    "# plot all the genes and label as non-significant\n",
    "\n",
    "# colour downregulated genes in blue\n",
    "\n",
    "# colour upregulated genes in red\n",
    "\n",
    "# Add axes labels\n",
    "\n",
    "# Add threshold lines\n",
    "plt.axvline(-2,color=\"grey\",linestyle=\"--\")\n",
    "plt.axvline(2,color=\"grey\",linestyle=\"--\")\n",
    "plt.axhline(2,color=\"grey\",linestyle=\"--\")\n",
    "\n",
    "# Add a legend\n",
    "\n",
    "# Save as png\n"
   ]
  },
  {
   "cell_type": "code",
   "execution_count": 21,
   "id": "8bd6b164-df7a-4536-b950-6d379b6cbb45",
   "metadata": {},
   "outputs": [
    {
     "data": {
      "image/png": "[encoded data removed]",
      "text/plain": [
       "<Figure size 640x480 with 1 Axis>"
      ]
     },
     "metadata": {},
     "output_type": "display_data"
    }
   ],
   "source": [
    "# define which parameters determine if a gene is significantly up or down\n",
    "down = res[(res['log2FoldChange']<=-1)&(res['padj']<0.05)]\n",
    "up = res[(res['log2FoldChange']>=1)&(res['padj']<0.05)]\n",
    "\n",
    "# plot all the genes and label as non-significant\n",
    "plt.scatter(x=res['log2FoldChange'],y=res['-log10 padj'],s=1,label=\"Not significant\")\n",
    "# colour downregulated genes in blue\n",
    "plt.scatter(x=down['log2FoldChange'],y=down['-log10 padj'],s=1,label=\"Down-regulated\",color=\"blue\")\n",
    "# colour upregulated genes in red\n",
    "plt.scatter(x=up['log2FoldChange'],y=up['-log10 padj'],s=1,label=\"Up-regulated\",color=\"red\")\n",
    "\n",
    "#Add axes labels\n",
    "plt.xlabel(\"Log2 Fold Change\")\n",
    "plt.ylabel(\"-log10 adjusted P value\")\n",
    "\n",
    "# Add threshold lines\n",
    "plt.axvline(-1,color=\"grey\",linestyle=\"--\")\n",
    "plt.axvline(1,color=\"grey\",linestyle=\"--\")\n",
    "plt.axhline(-np.log10(0.05),color=\"grey\",linestyle=\"--\")\n",
    "\n",
    "#Add a legend\n",
    "plt.legend()\n",
    "\n",
    "#Save as png\n",
    "plt.savefig('example_volcano.png')"
   ]
  },
  {
   "cell_type": "markdown",
   "id": "5822ffb8-9834-421c-a826-0ff1c9800f35",
   "metadata": {},
   "source": [
    "<div class=\"alert alert-block alert-success\">\n",
    "<b>Learning outcomes</b>\n",
    "\n",
    "You should now...\n",
    "\n",
    "- Know how to interpret a volcano plot\n",
    "- Know how to create a volcano plot to visualise your results"
   ]
  },
  {
   "cell_type": "markdown",
   "id": "17d51b43-485a-4d4f-b1af-332d660c9b09",
   "metadata": {},
   "source": [
    "# Extension - Making an interactive volcano plot"
   ]
  },
  {
   "cell_type": "markdown",
   "id": "922015e6",
   "metadata": {},
   "source": [
    "To explore our data, it would be very convenient if we could hover over a dot and get the gene name. Making that sort of interactive plot is possible using the python library [plotly](https://plotly.com/python/)."
   ]
  },
  {
   "cell_type": "code",
   "execution_count": 22,
   "id": "e9cad81a",
   "metadata": {},
   "outputs": [
    {
     "name": "stdout",
     "output_type": "stream",
     "text": [
      "Requirement already satisfied: plotly in /opt/conda/lib/python3.11/site-packages (5.23.0)\n",
      "Requirement already satisfied: tenacity>=6.2.0 in /opt/conda/lib/python3.11/site-packages (from plotly) (8.5.0)\n",
      "Requirement already satisfied: packaging in /opt/conda/lib/python3.11/site-packages (from plotly) (25.0)\n"
     ]
    }
   ],
   "source": [
    "# First, we install and import\n",
    "! pip install plotly\n",
    "import plotly.express as px"
   ]
  },
  {
   "cell_type": "code",
   "execution_count": 23,
   "id": "2bce3d9d",
   "metadata": {},
   "outputs": [
    {
     "name": "stderr",
     "output_type": "stream",
     "text": [
      "/tmp/ipykernel_142/149330020.py:2: SettingWithCopyWarning: \n",
      "A value is trying to be set on a copy of a slice from a DataFrame.\n",
      "Try using .loc[row_indexer,col_indexer] = value instead\n",
      "\n",
      "See the caveats in the documentation: https://pandas.pydata.org/pandas-docs/stable/user_guide/indexing.html#returning-a-view-versus-a-copy\n",
      "  res['gene']=res.index\n"
     ]
    }
   ],
   "source": [
    "# Plotly requires a slightly different input than matplotlib. In our dataframe res, we need to create a new column with the gene names\n",
    "res['gene']=res.index"
   ]
  },
  {
   "cell_type": "code",
   "execution_count": 24,
   "id": "94c40ff0",
   "metadata": {},
   "outputs": [
    {
     "data": {
      "text/html": [
       "<div>\n",
       "<style scoped>\n",
       "    .dataframe tbody tr th:only-of-type {\n",
       "        vertical-align: middle;\n",
       "    }\n",
       "\n",
       "    .dataframe tbody tr th {\n",
       "        vertical-align: top;\n",
       "    }\n",
       "\n",
       "    .dataframe thead th {\n",
       "        text-align: right;\n",
       "    }\n",
       "</style>\n",
       "<table border=\"1\" class=\"dataframe\">\n",
       "  <thead>\n",
       "    <tr style=\"text-align: right;\">\n",
       "      <th></th>\n",
       "      <th>baseMean</th>\n",
       "      <th>log2FoldChange</th>\n",
       "      <th>lfcSE</th>\n",
       "      <th>stat</th>\n",
       "      <th>pvalue</th>\n",
       "      <th>padj</th>\n",
       "      <th>-log10 padj</th>\n",
       "      <th>gene</th>\n",
       "    </tr>\n",
       "    <tr>\n",
       "      <th>gene</th>\n",
       "      <th></th>\n",
       "      <th></th>\n",
       "      <th></th>\n",
       "      <th></th>\n",
       "      <th></th>\n",
       "      <th></th>\n",
       "      <th></th>\n",
       "      <th></th>\n",
       "    </tr>\n",
       "  </thead>\n",
       "  <tbody>\n",
       "    <tr>\n",
       "      <th>gene:Smp_000020</th>\n",
       "      <td>4894.181166</td>\n",
       "      <td>0.220494</td>\n",
       "      <td>0.167263</td>\n",
       "      <td>1.318248</td>\n",
       "      <td>1.874205e-01</td>\n",
       "      <td>2.439020e-01</td>\n",
       "      <td>0.612785</td>\n",
       "      <td>gene:Smp_000020</td>\n",
       "    </tr>\n",
       "    <tr>\n",
       "      <th>gene:Smp_000030</th>\n",
       "      <td>18780.967017</td>\n",
       "      <td>0.640823</td>\n",
       "      <td>0.113390</td>\n",
       "      <td>5.651506</td>\n",
       "      <td>1.590481e-08</td>\n",
       "      <td>4.838303e-08</td>\n",
       "      <td>7.315307</td>\n",
       "      <td>gene:Smp_000030</td>\n",
       "    </tr>\n",
       "    <tr>\n",
       "      <th>gene:Smp_000040</th>\n",
       "      <td>5663.668190</td>\n",
       "      <td>-0.609066</td>\n",
       "      <td>0.135711</td>\n",
       "      <td>-4.487977</td>\n",
       "      <td>7.190276e-06</td>\n",
       "      <td>1.711393e-05</td>\n",
       "      <td>4.766650</td>\n",
       "      <td>gene:Smp_000040</td>\n",
       "    </tr>\n",
       "    <tr>\n",
       "      <th>gene:Smp_000050</th>\n",
       "      <td>2824.491025</td>\n",
       "      <td>-1.787652</td>\n",
       "      <td>0.281826</td>\n",
       "      <td>-6.343098</td>\n",
       "      <td>2.251895e-10</td>\n",
       "      <td>7.984448e-10</td>\n",
       "      <td>9.097755</td>\n",
       "      <td>gene:Smp_000050</td>\n",
       "    </tr>\n",
       "    <tr>\n",
       "      <th>gene:Smp_000070</th>\n",
       "      <td>1794.569198</td>\n",
       "      <td>0.465374</td>\n",
       "      <td>0.162853</td>\n",
       "      <td>2.857636</td>\n",
       "      <td>4.268094e-03</td>\n",
       "      <td>7.386997e-03</td>\n",
       "      <td>2.131532</td>\n",
       "      <td>gene:Smp_000070</td>\n",
       "    </tr>\n",
       "    <tr>\n",
       "      <th>...</th>\n",
       "      <td>...</td>\n",
       "      <td>...</td>\n",
       "      <td>...</td>\n",
       "      <td>...</td>\n",
       "      <td>...</td>\n",
       "      <td>...</td>\n",
       "      <td>...</td>\n",
       "      <td>...</td>\n",
       "    </tr>\n",
       "    <tr>\n",
       "      <th>gene:Smp_900070</th>\n",
       "      <td>41334.608763</td>\n",
       "      <td>2.999898</td>\n",
       "      <td>0.434492</td>\n",
       "      <td>6.904383</td>\n",
       "      <td>5.042215e-12</td>\n",
       "      <td>2.021966e-11</td>\n",
       "      <td>10.694226</td>\n",
       "      <td>gene:Smp_900070</td>\n",
       "    </tr>\n",
       "    <tr>\n",
       "      <th>gene:Smp_900080</th>\n",
       "      <td>6394.476687</td>\n",
       "      <td>3.246539</td>\n",
       "      <td>0.357577</td>\n",
       "      <td>9.079279</td>\n",
       "      <td>1.092963e-19</td>\n",
       "      <td>7.229905e-19</td>\n",
       "      <td>18.140867</td>\n",
       "      <td>gene:Smp_900080</td>\n",
       "    </tr>\n",
       "    <tr>\n",
       "      <th>gene:Smp_900090</th>\n",
       "      <td>159155.732267</td>\n",
       "      <td>4.304425</td>\n",
       "      <td>0.436310</td>\n",
       "      <td>9.865518</td>\n",
       "      <td>5.873074e-23</td>\n",
       "      <td>4.682771e-22</td>\n",
       "      <td>21.329497</td>\n",
       "      <td>gene:Smp_900090</td>\n",
       "    </tr>\n",
       "    <tr>\n",
       "      <th>gene:Smp_900100</th>\n",
       "      <td>5753.668599</td>\n",
       "      <td>1.824721</td>\n",
       "      <td>0.937269</td>\n",
       "      <td>1.946848</td>\n",
       "      <td>5.155293e-02</td>\n",
       "      <td>7.570078e-02</td>\n",
       "      <td>1.120900</td>\n",
       "      <td>gene:Smp_900100</td>\n",
       "    </tr>\n",
       "    <tr>\n",
       "      <th>gene:Smp_900110</th>\n",
       "      <td>114952.325564</td>\n",
       "      <td>3.702547</td>\n",
       "      <td>0.455812</td>\n",
       "      <td>8.122969</td>\n",
       "      <td>4.549167e-16</td>\n",
       "      <td>2.394140e-15</td>\n",
       "      <td>14.620850</td>\n",
       "      <td>gene:Smp_900110</td>\n",
       "    </tr>\n",
       "  </tbody>\n",
       "</table>\n",
       "<p>8555 rows × 8 columns</p>\n",
       "</div>"
      ],
      "text/plain": [
       "                      baseMean  log2FoldChange     lfcSE      stat  \\\n",
       "gene                                                                 \n",
       "gene:Smp_000020    4894.181166        0.220494  0.167263  1.318248   \n",
       "gene:Smp_000030   18780.967017        0.640823  0.113390  5.651506   \n",
       "gene:Smp_000040    5663.668190       -0.609066  0.135711 -4.487977   \n",
       "gene:Smp_000050    2824.491025       -1.787652  0.281826 -6.343098   \n",
       "gene:Smp_000070    1794.569198        0.465374  0.162853  2.857636   \n",
       "...                        ...             ...       ...       ...   \n",
       "gene:Smp_900070   41334.608763        2.999898  0.434492  6.904383   \n",
       "gene:Smp_900080    6394.476687        3.246539  0.357577  9.079279   \n",
       "gene:Smp_900090  159155.732267        4.304425  0.436310  9.865518   \n",
       "gene:Smp_900100    5753.668599        1.824721  0.937269  1.946848   \n",
       "gene:Smp_900110  114952.325564        3.702547  0.455812  8.122969   \n",
       "\n",
       "                       pvalue          padj  -log10 padj             gene  \n",
       "gene                                                                       \n",
       "gene:Smp_000020  1.874205e-01  2.439020e-01     0.612785  gene:Smp_000020  \n",
       "gene:Smp_000030  1.590481e-08  4.838303e-08     7.315307  gene:Smp_000030  \n",
       "gene:Smp_000040  7.190276e-06  1.711393e-05     4.766650  gene:Smp_000040  \n",
       "gene:Smp_000050  2.251895e-10  7.984448e-10     9.097755  gene:Smp_000050  \n",
       "gene:Smp_000070  4.268094e-03  7.386997e-03     2.131532  gene:Smp_000070  \n",
       "...                       ...           ...          ...              ...  \n",
       "gene:Smp_900070  5.042215e-12  2.021966e-11    10.694226  gene:Smp_900070  \n",
       "gene:Smp_900080  1.092963e-19  7.229905e-19    18.140867  gene:Smp_900080  \n",
       "gene:Smp_900090  5.873074e-23  4.682771e-22    21.329497  gene:Smp_900090  \n",
       "gene:Smp_900100  5.155293e-02  7.570078e-02     1.120900  gene:Smp_900100  \n",
       "gene:Smp_900110  4.549167e-16  2.394140e-15    14.620850  gene:Smp_900110  \n",
       "\n",
       "[8555 rows x 8 columns]"
      ]
     },
     "execution_count": 24,
     "metadata": {},
     "output_type": "execute_result"
    }
   ],
   "source": [
    "# lets check that it worked\n",
    "res"
   ]
  },
  {
   "cell_type": "code",
   "execution_count": null,
   "id": "1f06bd86",
   "metadata": {
    "scrolled": true
   },
   "outputs": [],
   "source": [
    "# Now, we can use our new columns to make the volcano plot\n",
    "fig = px.scatter(\n",
    "    res,\n",
    "    x='log2FoldChange',\n",
    "    y='-log10 padj',\n",
    "    hover_data=['log2FoldChange', 'padj','gene'],\n",
    "    title='Volcano Plot cercarum_vs_24h_schistosomulum'\n",
    ")\n",
    "\n",
    "# Show the plot\n",
    "fig.show()"
   ]
  }
 ],
 "metadata": {
  "kernelspec": {
   "display_name": "Python 3 (ipykernel)",
   "language": "python",
   "name": "python3"
  },
  "language_info": {
   "codemirror_mode": {
    "name": "ipython",
    "version": 3
   },
   "file_extension": ".py",
   "mimetype": "text/x-python",
   "name": "python",
   "nbconvert_exporter": "python",
   "pygments_lexer": "ipython3",
   "version": "3.12.11"
  }
 },
 "nbformat": 4,
 "nbformat_minor": 5
}
